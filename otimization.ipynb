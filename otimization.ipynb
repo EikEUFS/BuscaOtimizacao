{
  "nbformat": 4,
  "nbformat_minor": 0,
  "metadata": {
    "colab": {
      "name": "otimization.ipynb",
      "provenance": [],
      "collapsed_sections": [
        "Yxdb0avvBHq3",
        "BVOD410ZNnHP",
        "30t9cRa4sFpv",
        "KXFuSX3jshGJ",
        "tVMHTJLOyMvA",
        "kaGUVh8AsvMs",
        "Qj5O25f5tD-B"
      ],
      "authorship_tag": "ABX9TyM/Oitjw4pelYtOXhMijHEg",
      "include_colab_link": true
    },
    "kernelspec": {
      "name": "python3",
      "display_name": "Python 3"
    }
  },
  "cells": [
    {
      "cell_type": "markdown",
      "metadata": {
        "id": "view-in-github",
        "colab_type": "text"
      },
      "source": [
        "<a href=\"https://colab.research.google.com/github/EikEUFS/BuscaOtimizacao/blob/master/otimization.ipynb\" target=\"_parent\"><img src=\"https://colab.research.google.com/assets/colab-badge.svg\" alt=\"Open In Colab\"/></a>"
      ]
    },
    {
      "cell_type": "code",
      "metadata": {
        "id": "HU2E8kplZf_V",
        "colab": {
          "base_uri": "https://localhost:8080/"
        },
        "outputId": "18ab717f-a35c-4ad6-a0bd-01e5009338fb"
      },
      "source": [
        "!pip install scikit-posthocs"
      ],
      "execution_count": 1,
      "outputs": [
        {
          "output_type": "stream",
          "text": [
            "Requirement already satisfied: scikit-posthocs in /usr/local/lib/python3.6/dist-packages (0.6.6)\n",
            "Requirement already satisfied: matplotlib in /usr/local/lib/python3.6/dist-packages (from scikit-posthocs) (3.2.2)\n",
            "Requirement already satisfied: scipy in /usr/local/lib/python3.6/dist-packages (from scikit-posthocs) (1.4.1)\n",
            "Requirement already satisfied: seaborn in /usr/local/lib/python3.6/dist-packages (from scikit-posthocs) (0.11.0)\n",
            "Requirement already satisfied: pandas>=0.20.0 in /usr/local/lib/python3.6/dist-packages (from scikit-posthocs) (1.1.4)\n",
            "Requirement already satisfied: numpy in /usr/local/lib/python3.6/dist-packages (from scikit-posthocs) (1.18.5)\n",
            "Requirement already satisfied: statsmodels in /usr/local/lib/python3.6/dist-packages (from scikit-posthocs) (0.10.2)\n",
            "Requirement already satisfied: kiwisolver>=1.0.1 in /usr/local/lib/python3.6/dist-packages (from matplotlib->scikit-posthocs) (1.3.1)\n",
            "Requirement already satisfied: python-dateutil>=2.1 in /usr/local/lib/python3.6/dist-packages (from matplotlib->scikit-posthocs) (2.8.1)\n",
            "Requirement already satisfied: pyparsing!=2.0.4,!=2.1.2,!=2.1.6,>=2.0.1 in /usr/local/lib/python3.6/dist-packages (from matplotlib->scikit-posthocs) (2.4.7)\n",
            "Requirement already satisfied: cycler>=0.10 in /usr/local/lib/python3.6/dist-packages (from matplotlib->scikit-posthocs) (0.10.0)\n",
            "Requirement already satisfied: pytz>=2017.2 in /usr/local/lib/python3.6/dist-packages (from pandas>=0.20.0->scikit-posthocs) (2018.9)\n",
            "Requirement already satisfied: patsy>=0.4.0 in /usr/local/lib/python3.6/dist-packages (from statsmodels->scikit-posthocs) (0.5.1)\n",
            "Requirement already satisfied: six>=1.5 in /usr/local/lib/python3.6/dist-packages (from python-dateutil>=2.1->matplotlib->scikit-posthocs) (1.15.0)\n"
          ],
          "name": "stdout"
        }
      ]
    },
    {
      "cell_type": "code",
      "metadata": {
        "id": "Z8Oqxmv9ZwoZ"
      },
      "source": [
        "import warnings\n",
        "warnings.simplefilter(action='ignore', category=FutureWarning)\n",
        "\n",
        "import math\n",
        "import numpy as np\n",
        "import matplotlib.pyplot as plt\n",
        "import statistics as st\n",
        "\n",
        "from scipy.stats import friedmanchisquare, kruskal, mannwhitneyu, wilcoxon\n",
        "import scikit_posthocs as sp"
      ],
      "execution_count": 2,
      "outputs": []
    },
    {
      "cell_type": "code",
      "metadata": {
        "id": "mqvtjH1JZ3b-"
      },
      "source": [
        "'''\n",
        "n_x      <- size solution       (number)\n",
        "min_x    <- value min solution  (number)\n",
        "max_x    <- value max solution  (number)\n",
        "\n",
        "x        -> solution            (number)\n",
        "'''\n",
        "def create_random_vector(n_x, min_x, max_x):\n",
        "  x = np.random.uniform(min_x, max_x, n_x)\n",
        "  \n",
        "  return x"
      ],
      "execution_count": 3,
      "outputs": []
    },
    {
      "cell_type": "code",
      "metadata": {
        "id": "8V1p_WhFadxV"
      },
      "source": [
        "'''\n",
        "x        <- solution       ([number])\n",
        "c        <- costs          ([number])\n",
        "q        <- quantity       (number)\n",
        "\n",
        "o_x      -> bests solution ([number])\n",
        "'''\n",
        "def select_bests_vector(x, c, q):\n",
        "  o_c = sorted(c)\n",
        "  o_x = []\n",
        "\n",
        "  for i in range(q):\n",
        "      o_x.append(x[c.index(o_c[i])])\n",
        "      \n",
        "  return o_x"
      ],
      "execution_count": 4,
      "outputs": []
    },
    {
      "cell_type": "code",
      "metadata": {
        "id": "jrhj_tEQNRja"
      },
      "source": [
        "'''\n",
        "v        <- solution 1          ([number])\n",
        "w        <- solution 2          ([number])\n",
        "\n",
        "n_v      -> new solution 1      ([number])\n",
        "n_w      -> new solution 2      ([number])\n",
        "'''\n",
        "def two_point_crossover(v, w):\n",
        "  size = min(len(v), len(w))\n",
        "  c = np.random.randint(0, size)\n",
        "  d = np.random.randint(0, size - 1)\n",
        "\n",
        "  aux = np.copy(v)\n",
        "  n_v = np.copy(v)\n",
        "  n_w = np.copy(w)  \n",
        "\n",
        "  if d >= c:\n",
        "    d += 1\n",
        "  else:\n",
        "    c, d = d, c\n",
        "\n",
        "  n_v[c:d] = n_w[c:d]\n",
        "  n_w[c:d] = aux[c:d]\n",
        "\n",
        "  return n_v, n_w"
      ],
      "execution_count": 5,
      "outputs": []
    },
    {
      "cell_type": "code",
      "metadata": {
        "id": "ODIftrTdTLuh"
      },
      "source": [
        "'''\n",
        "pop_x    <- solutions           ([[number]])\n",
        "pop_c    <- costs solutions     ([number])\n",
        "pop_s    <- solutions size      ([number])\n",
        "to_s     <- tournament size     (number)\n",
        "f_s      <- function sphere     (function)\n",
        "\n",
        "b_x      -> best solution      ([number])\n",
        "b_c      -> best cost solution (number)\n",
        "'''\n",
        "def tournament_selection(pop_x, pop_c, pop_s, to_s, f_s):\n",
        "  b_x = []\n",
        "  b_c = np.nan\n",
        "  for i in range(to_s):\n",
        "      index = np.random.randint(0, pop_s)\n",
        "      if (np.isnan(b_c) or (pop_c[index] < b_c)):\n",
        "        b_x = np.copy(pop_x[index])\n",
        "        b_c = pop_c[index]\n",
        "        \n",
        "  return b_x, b_c"
      ],
      "execution_count": 6,
      "outputs": []
    },
    {
      "cell_type": "code",
      "metadata": {
        "id": "6EWfC7aTdVEp"
      },
      "source": [
        "'''\n",
        "x        <- solution            ([number])\n",
        "n_x      <- size solution       (number)\n",
        "min_x    <- value min solution  (number)\n",
        "max_x    <- value max solution  (number)\n",
        "p        <- probability         (number)\n",
        "r        <- exploration         (number)\n",
        "\n",
        "new_x    -> new solution        ([number])\n",
        "c        -> count               (number)\n",
        "'''\n",
        "def tweak_book(x, n_x, min_x, max_x, p, r):\n",
        "  new_x = np.copy(x)\n",
        "  c = 0\n",
        "\n",
        "  for i in range(n_x):\n",
        "    if (p >= np.random.random_sample()):\n",
        "      \n",
        "      while True:\n",
        "        n = np.random.uniform(r * -1, r)\n",
        "        if (min_x <=  new_x[i] + n <= max_x):\n",
        "          new_x[i] = new_x[i] + n\n",
        "          c += 1\n",
        "          break\n",
        "\n",
        "  return new_x, c"
      ],
      "execution_count": 7,
      "outputs": []
    },
    {
      "cell_type": "code",
      "metadata": {
        "id": "3g-hf2ZDoG0F"
      },
      "source": [
        "'''\n",
        "x        <- solution            ([number])\n",
        "n_x      <- size solution       (number)\n",
        "min_x    <- value min solution  (number)\n",
        "max_x    <- value max solution  (number)\n",
        "p        <- probability         (number)\n",
        "r        <- exploration         (number)\n",
        "\n",
        "new_x    -> new solution        ([number])\n",
        "c        -> count               (number)\n",
        "'''\n",
        "def tweak_eike(x, n_x, min_x, max_x, p, r):\n",
        "  new_x = np.copy(x)\n",
        "  c = 0\n",
        "\n",
        "  for i in range(n_x):\n",
        "    if (p > np.random.random_sample()):\n",
        "      new_x[i] = np.random.uniform(min_x, max_x)\n",
        "      c += 1\n",
        "      \n",
        "  return new_x, c"
      ],
      "execution_count": 8,
      "outputs": []
    },
    {
      "cell_type": "code",
      "metadata": {
        "id": "4uQxc8N8dVbd"
      },
      "source": [
        "'''\n",
        "x        <- solution  ([number])\n",
        "o        <- optimizer ([number])\n",
        "b        <- bias      (number)\n",
        "\n",
        "c        -> cost      (number)\n",
        "'''\n",
        "def shifted_sphere(x, o, b):\n",
        "  z = x - o\n",
        "  c = np.sum(z**2) + b\n",
        "  \n",
        "  return c"
      ],
      "execution_count": 9,
      "outputs": []
    },
    {
      "cell_type": "code",
      "metadata": {
        "id": "g8Z9VPMQoHjE"
      },
      "source": [
        "'''\n",
        "x        <- solution  ([number])\n",
        "o        <- optimizer ([number])\n",
        "b        <- bias      (number)\n",
        "\n",
        "c        -> cost      (number)\n",
        "'''\n",
        "def shifted_rosenbrock(x, o, b):\n",
        "  z = x - o + 1\n",
        "  c = np.sum(100.0*(z[1:]-z[:-1]**2.0)**2.0 + (1-z[:-1])**2.0) + b\n",
        "  \n",
        "  return c"
      ],
      "execution_count": 10,
      "outputs": []
    },
    {
      "cell_type": "code",
      "metadata": {
        "id": "IQ8_e1KwnmDN"
      },
      "source": [
        "'''\n",
        "x        <- solution  ([number])\n",
        "o        <- optimizer ([number])\n",
        "b        <- bias      (number)\n",
        "\n",
        "c        -> cost      (number)\n",
        "'''\n",
        "def shifted_rastring(x, o, b):\n",
        "  z = x - o\n",
        "  c = np.sum(z**2.0 - 10 * np.cos(2 * np.pi * z) + 10) + b\n",
        "\n",
        "  return c"
      ],
      "execution_count": 11,
      "outputs": []
    },
    {
      "cell_type": "code",
      "metadata": {
        "id": "lJUi7QjxmT7U"
      },
      "source": [
        "'''\n",
        "x        <- solution  ([number])\n",
        "o        <- optimizer ([number])\n",
        "b        <- bias      (number)\n",
        "\n",
        "c        -> cost      (number)\n",
        "'''\n",
        "def shifted_ackley(x, o, b):\n",
        "  z = x - o\n",
        "  sum1 = sum(z[i]**2 for i in range(len(z)))\n",
        "  sum2 = sum(cos(2*pi*z[i]) for i in range(len(z)))\n",
        "  d = 1.0/len(z)\n",
        "  c = -20.0*exp(-0.2*sqrt(d*sum1))-exp(d*sum2)+20.0+e+b\n",
        "  \n",
        "  return c"
      ],
      "execution_count": 12,
      "outputs": []
    },
    {
      "cell_type": "code",
      "metadata": {
        "id": "vKXl-yU2dopA"
      },
      "source": [
        "'''\n",
        "n_x      <- size solution       (number)\n",
        "min_x    <- value min solution  (number)\n",
        "max_x    <- value max solution  (number)\n",
        "p        <- probability         (number)\n",
        "r        <- exploration         (number)\n",
        "a        <- avaliation          (number)\n",
        "o        <- optimizer           ([number])\n",
        "b        <- bias                (number)\n",
        "f_t      <- function tweak      (function)\n",
        "f_s      <- function sphere     (function)\n",
        "t_s      <- tabu size           (______)\n",
        "pa_s     <- elite size          (______)\n",
        "ch_s     <- solutions size      (______)\n",
        "to_s     <- tournament size     (______)\n",
        "\n",
        "cs       -> costs               ([number])\n",
        "'''\n",
        "def hill_climbing(n_x, min_x, max_x, p, r, a, o, b, f_t, f_s, t_s=0, pa_s=0, ch_s=0, to_s=0):\n",
        "  x = create_random_vector(n_x, min_x, max_x)   # solution ([number])\n",
        "  cs = []                                       # costs ([number])\n",
        "\n",
        "  b_x = np.copy(x)                              # best_solution ([number])\n",
        "  b_c = f_s(b_x, o, b)                          # best_cost (number)\n",
        "\n",
        "  for _ in range(a):\n",
        "    c_x, _ = f_t(b_x, n_x, min_x, max_x, p, r)  # candidate_solution ([number])\n",
        "    c_c = f_s(c_x, o, b)                        # candidate_cost (number)\n",
        "\n",
        "    if (c_c <= b_c):\n",
        "      b_x = np.copy(c_x)\n",
        "      b_c = c_c    \n",
        "\n",
        "    cs.append(b_c)\n",
        "    \n",
        "  return cs"
      ],
      "execution_count": 13,
      "outputs": []
    },
    {
      "cell_type": "code",
      "metadata": {
        "id": "Rvn6LyfWfPPf"
      },
      "source": [
        "'''\n",
        "n_x      <- size solution       (number)\n",
        "min_x    <- value min solution  (number)\n",
        "max_x    <- value max solution  (number)\n",
        "p        <- probability         (number)\n",
        "r        <- exploration         (number)\n",
        "a        <- avaliation          (number)\n",
        "o        <- optimizer           ([number])\n",
        "b        <- bias                (number)\n",
        "f_t      <- function tweak      (function)\n",
        "f_s      <- function sphere     (function)\n",
        "t_s      <- tabu size           (______)\n",
        "pa_s     <- elite size          (______)\n",
        "ch_s     <- solutions size      (______)\n",
        "to_s     <- tournament size     (______)\n",
        "\n",
        "cs       -> costs               ([number])\n",
        "'''\n",
        "def simulated_annealing(n_x, min_x, max_x, p, r, a, o, b, f_t, f_s, t_s=0, pa_s=0, ch_s=0, to_s=0):\n",
        "  x = create_random_vector(n_x, min_x, max_x)   # solution ([number])\n",
        "  cs = []                                       # costs ([number])\n",
        "\n",
        "  i_x = np.copy(x)                              # initial_solution ([number])\n",
        "  i_c = f_s(i_x, o, b)                          # initial_cost (number)\n",
        "\n",
        "  b_x = np.copy(i_x)                            # best_solution ([number])\n",
        "  b_c = i_c                                     # best_cost (number)\n",
        "\n",
        "  for i in range(a):\n",
        "    f = i / float(a)                            # fraction (number)\n",
        "    t = max(0.01, min(1, 1 - f))                # temperature (number)\n",
        "\n",
        "    c_x, _  = f_t(i_x, n_x, min_x, max_x, p, r) # candidate_solution ([number])\n",
        "    c_c     = f_s(c_x, o, b)                    # candidate_cost (number)\n",
        "\n",
        "    if ((c_c <= i_c) or (np.random.random_sample() < np.exp(- (c_c - i_c) / t))):\n",
        "      i_x = np.copy(c_x)\n",
        "      i_c = c_c\n",
        "\n",
        "    if (i_c <= b_c):\n",
        "      b_x = np.copy(i_x)\n",
        "      b_c = i_c\n",
        "\n",
        "    cs.append(b_c)\n",
        "\n",
        "  return cs"
      ],
      "execution_count": 14,
      "outputs": []
    },
    {
      "cell_type": "code",
      "metadata": {
        "id": "zFy6u2zphUmS"
      },
      "source": [
        "'''\n",
        "n_x      <- size solution       (number)\n",
        "min_x    <- value min solution  (number)\n",
        "max_x    <- value max solution  (number)\n",
        "p        <- probability         (number)\n",
        "r        <- exploration         (number)\n",
        "a        <- avaliation          (number)\n",
        "o        <- optimizer           ([number])\n",
        "b        <- bias                (number)\n",
        "f_t      <- function tweak      (function)\n",
        "f_s      <- function sphere     (function)\n",
        "t_s      <- tabu size           (number)\n",
        "pa_s     <- elite size          (______)\n",
        "ch_s     <- solutions size      (______)\n",
        "to_s     <- tournament size     (______)\n",
        "\n",
        "cs       -> costs               ([number])\n",
        "'''\n",
        "def search_tabu(n_x, min_x, max_x, p, r, a, o, b, f_t, f_s, t_s=0, pa_s=0, ch_s=0, to_s=0):\n",
        "  x = create_random_vector(n_x, min_x, max_x)   # solution ([number])\n",
        "  cs = []                                       # costs ([number])\n",
        "  t = []                                        # tabu ([number])\n",
        "\n",
        "  i_x = np.copy(x)                              # initial_solution ([number])\n",
        "  i_c = f_s(i_x, o, b)                          # initial_cost (number)\n",
        "\n",
        "  b_x = np.copy(i_x)                            # best_solution ([number])\n",
        "  b_c = i_c                                     # best_cost (number)\n",
        "\n",
        "  for i in range(a):\n",
        "    if (len(t) > t_s):\n",
        "      t = np.copy(t[1:])\n",
        "\n",
        "    c_x, c = f_t(i_x, n_x, min_x, max_x, p, r)  # candidate_solution, value tabu ([number], number)\n",
        "\n",
        "    while (c in t):\n",
        "      c_x, c = f_t(i_x, n_x, min_x, max_x, p, r)\n",
        "      \n",
        "    c_c = f_s(c_x, o, b)                        # candidate_cost (number)\n",
        "\n",
        "    t = np.append(t, c)\n",
        "\n",
        "    if (c_c <= i_c):\n",
        "      i_x = np.copy(c_x)\n",
        "      i_c = c_c\n",
        "\n",
        "    if (i_c <= b_c):\n",
        "      b_x = np.copy(i_x)\n",
        "      b_c = i_c\n",
        "\n",
        "    cs.append(b_c)\n",
        "  \n",
        "  return cs"
      ],
      "execution_count": 15,
      "outputs": []
    },
    {
      "cell_type": "code",
      "metadata": {
        "id": "6l-qPMCmJs8i"
      },
      "source": [
        "'''\n",
        "n_x      <- size solution       (number)\n",
        "min_x    <- value min solution  (number)\n",
        "max_x    <- value max solution  (number)\n",
        "p        <- probability         (number)\n",
        "r        <- exploration         (number)\n",
        "a        <- avaliation          (number)\n",
        "o        <- optimizer           ([number])\n",
        "b        <- bias                (number)\n",
        "f_t      <- function tweak      (function)\n",
        "f_s      <- function sphere     (function)\n",
        "t_s      <- tabu size           (______)\n",
        "pa_s     <- elite size          (number)\n",
        "ch_s     <- solutions size      (number)\n",
        "to_s     <- tournament size     (______)\n",
        "\n",
        "cs       -> costs               ([number])\n",
        "'''\n",
        "def evolution_strategy(n_x, min_x, max_x, p, r, a, o, b, f_t, f_s, t_s=0, pa_s=0, ch_s=0, to_s=0):\n",
        "  cs = []                                         # costs ([number])\n",
        "\n",
        "  pop_x = []                                      # solution       ([[number]])\n",
        "  pop_c = []                                      # costs solution ([number])\n",
        "\n",
        "  for _ in range(ch_s):\n",
        "    pop_x.append(np.copy(create_random_vector(n_x, min_x, max_x)))\n",
        "\n",
        "  b_x = []                                        # best_solution ([number])\n",
        "  b_c = np.nan                                    # best_cost (number)\n",
        "\n",
        "  for _ in range(a):\n",
        "    for i in range(ch_s):\n",
        "      pop_c.append(f_s(pop_x[i], o, b))\n",
        "\n",
        "      if (np.isnan(b_c) or (pop_c[i] < b_c)):\n",
        "        b_x = np.copy(pop_x[i])\n",
        "        b_c = pop_c[i]\n",
        "  \n",
        "    q_x = np.copy(select_bests_vector(pop_x, pop_c, pa))   # selected bests solutions ([[number]])\n",
        "\n",
        "    pop_x = np.copy(q_x)\n",
        "    pop_x = pop_x.tolist()\n",
        "    pop_c = []\n",
        "\n",
        "    q_ch = int(ch_s/pa_s)                                  # quantity new childrens (number)\n",
        "\n",
        "    for i in range(pa_s):\n",
        "      for _ in range(q_ch):\n",
        "        c_x, _ = f_t(q_x[i], n_x, min_x, max_x, p, r)\n",
        "        pop_x.append(c_x)\n",
        "\n",
        "    cs.append(b_c)\n",
        "  \n",
        "  return cs"
      ],
      "execution_count": 16,
      "outputs": []
    },
    {
      "cell_type": "code",
      "metadata": {
        "id": "DFRaQNciM3eS"
      },
      "source": [
        "'''\n",
        "n_x      <- size solution       (number)\n",
        "min_x    <- value min solution  (number)\n",
        "max_x    <- value max solution  (number)\n",
        "p        <- probability         (number)\n",
        "r        <- exploration         (number)\n",
        "a        <- avaliation          (number)\n",
        "o        <- optimizer           ([number])\n",
        "b        <- bias                (number)\n",
        "f_t      <- function tweak      (function)\n",
        "f_s      <- function sphere     (function)\n",
        "t_s      <- tabu size           (______)\n",
        "pa_s     <- elite size          (number)\n",
        "ch_s     <- solutions size      (number)\n",
        "to_s     <- tournament size     (number)\n",
        "\n",
        "cs       -> costs               ([number])\n",
        "'''\n",
        "def genetic_algorithm(n_x, min_x, max_x, p, r, a, o, b, f_t, f_s, t_s=0, pa_s=0, ch_s=0, to_s=0):\n",
        "  cs = []                                         # costs ([number])\n",
        "\n",
        "  pop_x = []                                      # solution       ([[number]])\n",
        "  pop_c = []                                      # costs solution ([number])\n",
        "\n",
        "  for _ in range(ch_s):\n",
        "    pop_x.append(np.copy(create_random_vector(n_x, min_x, max_x)))  \n",
        "\n",
        "  b_x = []                                        # best_solution ([number])\n",
        "  b_c = np.nan                                    # best_cost (number)\n",
        "\n",
        "  for _ in range(a):\n",
        "    for i in range(ch_s):  \n",
        "      pop_c.append(f_s(pop_x[i], o, b))\n",
        "\n",
        "      if (np.isnan(b_c) or (pop_c[i] < b_c)):\n",
        "        b_x = np.copy(pop_x[i])\n",
        "        b_c = pop_c[i]\n",
        "  \n",
        "    q_x = np.copy(select_bests_vector(pop_x, pop_c, e_s))   # selected bests solutions ([[number]])\n",
        "    q_x = q_x.tolist()    \n",
        "\n",
        "    q_pop = int((ch_s - pa_s)/2)\n",
        "\n",
        "    for i in range(q_pop):\n",
        "      pa_x, _ = np.copy(tournament_selection(pop_x, pop_c, ch_s, to_s, f_s))\n",
        "      pb_x, _ = np.copy(tournament_selection(pop_x, pop_c, ch_s, to_s, f_s))\n",
        "      ca_x, cb_x = two_point_crossover(pa_x, pb_x)\n",
        "      ma_x, _ = np.copy(f_t(ca_x, n_x, min_x, max_x, p, r))\n",
        "      mb_x, _ = np.copy(f_t(cb_x, n_x, min_x, max_x, p, r))\n",
        "      q_x.append(np.copy(ma_x))\n",
        "      q_x.append(np.copy(mb_x))\n",
        "\n",
        "    pop_x = np.copy(q_x)\n",
        "    pop_c = []\n",
        "\n",
        "    cs.append(b_c)\n",
        "  \n",
        "  return cs"
      ],
      "execution_count": 17,
      "outputs": []
    },
    {
      "cell_type": "markdown",
      "metadata": {
        "id": "Yxdb0avvBHq3"
      },
      "source": [
        "# Parametros"
      ]
    },
    {
      "cell_type": "code",
      "metadata": {
        "id": "7ThK1CpgIyRt"
      },
      "source": [
        "# BIAS e Otimo do Sphere\n",
        "o_sp = np.array([\n",
        "                -65,-2,-21,86,65,-27,-91,7,86,49,-58,96,-77,10,86,-78,48,13,-28,63,95,-58,-96,7,-21,\n",
        "                -100,42,8,-67,56,-99,18,34,-67,-46,-14,78,-98,34,29,-47,16,62,26,-20,-94,-7,87,-32,-7,\n",
        "                43,-36,-90,95,84,60,98,0,82,-21,9,-84,57,-61,50,84,64,-82,-24,-85,-80,82,-63,-94,19,-43,\n",
        "                -100,-62,3,-34,-83,12,-68,-43,95,-68,-8,69,89,-37,64,-35,-59,-83,-67,-93,28,-76,-26,-65\n",
        "                ])\n",
        "b_sp = -450\n",
        "  \n",
        "# BIAS e Otimo do Rosenbrock\n",
        "o_ro = np.array([\n",
        "                -35.91,-69.14,4.93,4.43,42.76,0.85,-15.64,68.11,6.99,9.92,5.88,-0.18,18.55,-0.87,5.79,\n",
        "                -5.18,4.78, 35.42,-0.56,-41.91,5.23,58.15,69.25,-54.05,30.73,15.73,-40.22,-8.71,48.12,\n",
        "                43.39,23.15,-8.33,-1.09,-46.20,-32.94,-37.73,-1.11,-0.49,-2.40,-64.44,-4.86,-14.40,\n",
        "                -4.35,-1.85,-23.65,4.46,-7.11,11.29,0.88,-98.82,79.81,-49.91,26.41,3.51,33.25,3.48,\n",
        "                -7.29,0.00,16.88, 6.11,-29.38,-13.48,43.39,-46.88,39.00,0.47,-58.69,-12.16,-3.95,35.87,\n",
        "                -6.73,20.23,-13.22,-13.48,66.63,27.15,-36.15,46.46,13.23,-61.69,-36.08,-19.79,-1.00,\n",
        "                16.72,-16.19,-38.64,88.76,45.85,-33.61,11.32,-46.06,-31.68,20.94,29.43,32.87,-17.49,\n",
        "                -20.12,-13.16,-0.86, 20.54\n",
        "                ])\n",
        "b_ro = 390\n",
        "\n",
        "# BIAS e Otimo do Rastring\n",
        "o_ra = np.array([\n",
        "                -0.37,-0.79,1.60,0.07,4.77,-1.58,0.16,-2.98,-0.26,3.98,0.93,1.93,-0.72,0.76,0.26,3.23,\n",
        "                -1.88,-0.24,0.00,0.36,0.00,2.00,-1.29,2.58,0.51,0.75,-0.62,0.00,0.40,0.01,0.81,-2.36,\n",
        "                -0.86,-1.27,0.66,-3.90,-0.96,1.66,-1.49,-1.47,-1.48,1.68,1.46,-0.34,-0.90,1.56,0.00,\n",
        "                -1.69,0.30,1.42,-2.59,-0.34,0.77,0.83,-0.19,1.95,-2.07,0.89,-0.47,0.75,0.31,-0.90,0.00,\n",
        "                -2.27,-1.37,-2.02,-1.13,3.27,1.27,3.07,-4.30,-2.94,-2.45,0.80,-0.11,0.00,0.00,-1.25,\n",
        "                -0.38,2.46,-0.34,0.00,-0.35,1.97,-1.90,2.61,0.00,0.00,0.00,-1.08,-1.67,1.85,-0.94,2.51,\n",
        "                2.63,0.84,1.66,2.30,-0.03,-1.06\n",
        "                ])\n",
        "b_ra = -330\n",
        "\n",
        "# BIAS e Otimo do Ackley\n",
        "o_ac = np.array([\n",
        "                  4.63,4.08,-0.98,0.62,-4.47,3.94,13.53,-1.37,9.68,13.74,4.70,-10.58,4.87,4.55,-11.40,\n",
        "                  2.03,4.79,-12.74,-4.82,1.79,7.95,0.54,1.35,0.23,-4.52,-1.89,-15.00,-2.02,23.27,7.78,\n",
        "                  -12.47,-2.03,-12.32,-13.06,-8.73,-1.31,2.00,-9.59,4.79,3.54,15.83,-5.09,-2.43,-14.81,\n",
        "                  -8.06,0.00,-0.13,-6.26,1.53,5.86,-7.40,-5.66,-8.42,-7.68,-6.70,-25.78,-5.29,-2.47,\n",
        "                  -15.85,-1.23,1.56,-1.78,-3.16,10.56,6.82,-0.27,3.15,-1.96,-4.63,0.22,-3.98,-16.77,\n",
        "                  16.78,-13.33,1.12,4.78,5.68,16.89,0.26,-13.20,-0.60,-3.63,-4.05,-0.98,-8.20,-15.32,\n",
        "                  -9.64,8.88,-0.18,5.09,-0.60,7.70,-0.82,12.58,-0.28,-7.58,-2.08,-2.55,0.83,1.95\n",
        "                ])\n",
        "b_ac = -140\n",
        "\n",
        "fu = [hill_climbing, simulated_annealing, search_tabu, evolution_strategy, genetic_algorithm]\n",
        "op = [o_sp, o_ro, o_ra, o_ac]\n",
        "bp = [b_sp, b_ro, b_ra, b_ac]\n",
        "tw = [tweak_book, tweak_eike]\n",
        "sh = [shifted_sphere, shifted_rosenbrock, shifted_rastring, shifted_ackley]\n",
        "\n",
        "n_x = [100]\n",
        "min_x = [-100,-100,-5,-32]\n",
        "max_x = [100,100,5,32]\n",
        "\n",
        "p = [0.02,0.08,0.20]\n",
        "r = [10,20,50]\n",
        "a = [50000]\n",
        "s = [5,10]\n",
        "ta = [0,2,3,5]\n",
        "pa = [0,2,4,6,20]\n",
        "ch = [0,4,8,12,40]\n",
        "to = [0,2]"
      ],
      "execution_count": 18,
      "outputs": []
    },
    {
      "cell_type": "markdown",
      "metadata": {
        "id": "BVOD410ZNnHP"
      },
      "source": [
        "# Testes"
      ]
    },
    {
      "cell_type": "code",
      "metadata": {
        "id": "_E_uMtcglSEr"
      },
      "source": [
        "'''\n",
        "n_fu     <- 0:hill_climbing   | 1:simulated_annealing | 2:search_tabu       | 3:evolution_strategy  | 4:genetic_algorithm\n",
        "n_tw     <- 0:tweak_book      | 1:tweak_eike\n",
        "n_sh     <- 0:shifted_sphere  | 1:shifted_rosenbrock  | 2:shifted_rastring  | 3:shifted_ackley\n",
        "n_p      <- 0:0.02            | 1:0.08                | 2:0.20\n",
        "n_r      <- 0:10              | 1:20                  | 2:50\n",
        "n_s      <- 0:1               | 1:5                   | 2:10\n",
        "n_a      <- 0:50000           | 1:75000               | 2:100000\n",
        "n_ta     <- 0:0               | 1:2                   | 2:3                 | 3:5\n",
        "n_pa     <- 0:0               | 1:2                   | 2:4                 | 3:6                   | 4:20\n",
        "n_ch     <- 0:0               | 1:4                   | 2:8                 | 3:12                  | 4:40\n",
        "n_to     <- 0:0               | 1:2\n",
        "\n",
        "print()  -> value, media, standard seviation ()\n",
        "'''\n",
        "def test_optimization(n_fu, n_tw, n_sh, n_p, n_r, n_s, n_a, n_ta, n_pa, n_ch, n_to):\n",
        "  c_m_cs_o = []\n",
        "\n",
        "  for _ in range(s[n_s]):\n",
        "    if (pa[n_pa] == 0 or ch[n_ch] == 0 or pa[n_pa] < ch[n_ch]) :\n",
        "      cs_o = fu[n_fu](\n",
        "                      n_x[0], min_x[n_sh], max_x[n_sh], p[n_p], r[n_r], a[n_a], \n",
        "                      op[n_sh], bp[n_sh], tw[n_tw], sh[n_sh],\n",
        "                      ta[n_ta], pa[n_pa], ch[n_ch], to[n_to]\n",
        "                    )\n",
        "    c_m_cs_o.append(cs_o[-1])\n",
        "\n",
        "  np_c_m_cs_o = np.array(c_m_cs_o)\n",
        "\n",
        "  if (n_fu == 0):\n",
        "    print('Hill Climbing', end=\"\")\n",
        "  if (n_fu == 1):\n",
        "    print('Simulated Annealing', end=\"\")\n",
        "  if (n_fu == 2):\n",
        "    print('Search Tabu', end=\"\")\n",
        "  if (n_fu == 3):\n",
        "    print('Evolution Strategy', end=\"\")\n",
        "  if (n_fu == 4):\n",
        "    print('Genetic Algorithm', end=\"\")\n",
        "  print(' | ', end=\"\")\n",
        "  if (n_tw == 0):\n",
        "    print('Tweak Book', end=\"\")\n",
        "  if (n_tw == 1):\n",
        "    print('Tweak EikE', end=\"\")\n",
        "  print(' | ', end=\"\")\n",
        "  if (n_sh == 0):\n",
        "    print('Shifted Sphere', end=\"\")\n",
        "  if (n_sh == 1):\n",
        "    print('Shifted Rosenbrock', end=\"\")\n",
        "  if (n_sh == 2):\n",
        "    print('Shifted Rastring', end=\"\")\n",
        "  if (n_sh == 3):\n",
        "    print('Shifted Ackley', end=\"\")\n",
        "  print()\n",
        "  print('p = ', p[n_p],' | r = ', r[n_r] , ' | a = ', a[n_a], '| ta = ', ta[n_ta], \n",
        "        ' | pa = ', pa[n_pa], ' | ch = ', ch[n_ch], ' | to = ', to[n_to])\n",
        "  print('Values = ', end=\"\")\n",
        "  print(np_c_m_cs_o)\n",
        "  print('Media =', np_c_m_cs_o.mean())  \n",
        "  print('Standard Seviation =', np_c_m_cs_o.std())\n",
        "  print()"
      ],
      "execution_count": 19,
      "outputs": []
    },
    {
      "cell_type": "code",
      "metadata": {
        "id": "CETxYxBHcKhq"
      },
      "source": [
        "'''\n",
        "n_fu     <- 0:hill_climbing   | 1:simulated_annealing | 2:search_tabu       | 3:evolution_strategy  | 4:genetic_algorithm\n",
        "n_tw     <- 0:tweak_book      | 1:tweak_eike\n",
        "n_sh     <- 0:shifted_sphere  | 1:shifted_rosenbrock  | 2:shifted_rastring  | 3:shifted_ackley\n",
        "\n",
        "n_to     <- 0:0               | 1:2\n",
        "\n",
        "print()  -> value, media, standard seviation ()\n",
        "'''\n",
        "def test_parameters(n_fu, n_tw, n_sh):\n",
        "  for c_p in range(len(p)):\n",
        "    for c_r in range(len(r)):\n",
        "      for c_s in range(len(s)):\n",
        "        for c_a in range(len(a)):\n",
        "          if (n_fu >= 2):\n",
        "            if (n_fu == 3):  \n",
        "              for c_ta in range(len(ta)):\n",
        "                test_optimization(n_fu, n_tw, n_sh, c_p, c_r, c_s, c_a, c_ta, 0, 0, 0)\n",
        "            else:\n",
        "              for c_pa in range(len(pa)):\n",
        "                for c_ch in range(len(ch)):\n",
        "                  if (n_fu == 4):\n",
        "                    test_optimization(n_fu, n_tw, n_sh, c_p, c_r, c_s, c_a, 0, c_pa, c_ch, 0)\n",
        "                  else:                    \n",
        "                    for c_to in range(len(to)):\n",
        "                      test_optimization(n_fu, n_tw, n_sh, c_p, c_r, c_s, c_a, 0, c_pa, c_ch, c_to)                \n",
        "          else:\n",
        "            test_optimization(n_fu, n_tw, n_sh, c_p, c_r, c_s, c_a, 0, 0, 0, 0)"
      ],
      "execution_count": 20,
      "outputs": []
    },
    {
      "cell_type": "code",
      "metadata": {
        "id": "wUOJuncs8f7U"
      },
      "source": [
        "'''\n",
        "data     <- values best costs       ([number)\n",
        "\n",
        "print()  -> value, media, standard seviation ()\n",
        "'''\n",
        "def test_statistical(data):\n",
        "  print_friedman = friedmanchisquare(*(data[i, :] for i in range(data.shape[0])))\n",
        "  print_kruskal = kruskal(*(data[i, :] for i in range(data.shape[0])))\n",
        "  print_posthoc = sp.posthoc_conover(data)\n",
        "\n",
        "  print_posthoc.columns = ['HC', 'SA', 'TABU', 'ES', 'GA']\n",
        "  print_posthoc.index = ['HC', 'SA', 'TABU', 'ES', 'GA']\n",
        "\n",
        "  print('FRIEDMAN:')\n",
        "  print(print_friedman)\n",
        "  print()\n",
        "  print('print_kruskal:')\n",
        "  print(print_kruskal)\n",
        "  print()\n",
        "  print('POSTHOC:')\n",
        "  print(print_posthoc)\n",
        "  print()\n",
        "  print()\n",
        "  print(print_posthoc.to_latex(decimal=\",\", float_format=\"%.2f\"))"
      ],
      "execution_count": 21,
      "outputs": []
    },
    {
      "cell_type": "markdown",
      "metadata": {
        "id": "S_j_SOs9rRWN"
      },
      "source": [
        "# Resultados\n",
        "\n",
        "\n",
        "\n",
        "\n",
        "\n",
        "\n"
      ]
    },
    {
      "cell_type": "markdown",
      "metadata": {
        "id": "30t9cRa4sFpv"
      },
      "source": [
        "## Hill Climbing"
      ]
    },
    {
      "cell_type": "markdown",
      "metadata": {
        "id": "V_zJAnDmsFY-"
      },
      "source": [
        "### Tweak EikE - Shifted Sphere\n",
        "```\n",
        "p = 0.02\n",
        "r = 10\n",
        "v_h_c_t_e_s_s = [ -361.89711511, -333.66210101, -335.64896223, -331.70957379, -360.16050644,\n",
        "                  -330.50664702, -331.2861224,  -354.40371762, -331.17329636, -334.54814754]\n",
        "m_h_c_t_e_s_s = -340.49961895211624\n",
        "d_h_c_t_e_s_s = 12.216468500815258\n",
        "```"
      ]
    },
    {
      "cell_type": "markdown",
      "metadata": {
        "id": "F0_or3gHsFBY"
      },
      "source": [
        "### Tweak Book - Shifted Sphere\n",
        "```\n",
        "p = 0.02\n",
        "r = 10\n",
        "v_h_c_t_b_s_s = [ -448.99958059, -449.08588058, -448.67478445, -448.8023115,  -448.88409216,\n",
        "                  -448.90467427, -448.79007768, -448.9659579,  -448.55792272, -448.75166424]\n",
        "m_h_c_t_b_s_s = -448.84169460981764\n",
        "d_h_c_t_b_s_s = 0.1504880123575198\n",
        "```"
      ]
    },
    {
      "cell_type": "markdown",
      "metadata": {
        "id": "EHw_0dAIsEdV"
      },
      "source": [
        "### Tweak Book - Shifted Rosenbrock\n",
        "```\n",
        "p = 0.02\n",
        "r = 10\n",
        "v_h_c_t_b_s_ro = [1004.96216706, 1010.59483538, 1059.38723624, 1231.83968287, 1074.96875534,\n",
        "                  1133.96758412, 1157.28613874, 1113.96419956,  947.78057586,  993.149034  ]\n",
        "m_h_c_t_b_s_ro = 1072.790020917084\n",
        "d_h_c_t_b_s_ro = 82.76332802349343\n",
        "```"
      ]
    },
    {
      "cell_type": "markdown",
      "metadata": {
        "id": "bbpA1dsPsEOc"
      },
      "source": [
        "### Tweak Book - Shifted Rastring\n",
        "```\n",
        "p = 0.02\n",
        "r = 10\n",
        "v_h_c_t_b_s_ra = [-271.0592473, -271.18508148, -269.07648265, -268.94991295, -256.41134912,\n",
        "                  -268.5656181, -276.32074544, -268.08940459, -275.73561079, -266.18099865]\n",
        "m_h_c_t_b_s_ra = -269.1574451074545\n",
        "d_h_c_t_b_s_ra = 5.2457228958423165\n",
        "```"
      ]
    },
    {
      "cell_type": "markdown",
      "metadata": {
        "id": "KXFuSX3jshGJ"
      },
      "source": [
        "## Simulated Annealing"
      ]
    },
    {
      "cell_type": "markdown",
      "metadata": {
        "id": "vCbK6dIQshGM"
      },
      "source": [
        "### Tweak Book - Shifted Sphere\n",
        "```\n",
        "p = 0.02\n",
        "r = 10\n",
        "v_s_a_t_b_s_s = [ -443.48464097, -443.3793431, -441.89325212, -443.19748406, -442.75356732,\n",
        "                  -445.00679555, -443.78463621, -443.31465878, -443.84054266, -444.00018411]\n",
        "m_s_a_t_b_s_s = -443.4655104881308\n",
        "d_s_a_t_b_s_s = 0.7736388406486008\n",
        "```"
      ]
    },
    {
      "cell_type": "markdown",
      "metadata": {
        "id": "_WoXdlWMshGN"
      },
      "source": [
        "### Tweak Book - Shifted Rosenbrock\n",
        "```\n",
        "p = 0.02\n",
        "r = 10\n",
        "v_s_a_t_b_s_ro = [980.47697763, 1156.61962987, 1196.1478509,  1140.65640393, 1087.63932609,\n",
        "                  1239.62264561, 1054.3994904,  1041.64757216, 1092.38879065, 1367.02406835]\n",
        "m_s_a_t_b_s_ro = 1135.6622755574595\n",
        "d_s_a_t_b_s_ro = 105.90673921783308\n",
        "```"
      ]
    },
    {
      "cell_type": "markdown",
      "metadata": {
        "id": "At29iXp7shGO"
      },
      "source": [
        "### Tweak Book - Shifted Rastring\n",
        "```\n",
        "p = 0.02\n",
        "r = 10\n",
        "v_s_a_t_b_s_ra = [-263.10954392, -261.68169129, -246.04764288, -251.97618544, -261.55005478,\n",
        "                  -266.53617798, -252.56246195, -256.9262547,  -263.68921995, -263.71010443]\n",
        "m_s_a_t_b_s_ra = -258.7789337326337\n",
        "d_s_a_t_b_s_ra = 6.276157929401573\n",
        "```"
      ]
    },
    {
      "cell_type": "markdown",
      "metadata": {
        "id": "tVMHTJLOyMvA"
      },
      "source": [
        "## Search Tabu"
      ]
    },
    {
      "cell_type": "markdown",
      "metadata": {
        "id": "SqODrC_SyMvD"
      },
      "source": [
        "### Tweak Book - Shifted Sphere\n",
        "```\n",
        "p = 0.02\n",
        "r = 10\n",
        "t_s = 3\n",
        "v_s_t_t_b_s_s = [ -447.82517356, -448.49152267, -448.6959678,  -448.47626668, -448.11314914,\n",
        "                  -448.35987982, -448.35978147, -447.50214284, -448.66428286, -448.48921587]\n",
        "m_s_t_t_b_s_s = -448.2977382705705\n",
        "d_s_t_t_b_s_s = 0.3601532628835457\n",
        "```"
      ]
    },
    {
      "cell_type": "markdown",
      "metadata": {
        "id": "7Ph94nm7yMvE"
      },
      "source": [
        "### Tweak Book - Shifted Rosenbrock\n",
        "```\n",
        "p = 0.02\n",
        "r = 20\n",
        "t_s = 3\n",
        "v_s_t_t_b_s_ro = [2368.01326385, 10207.60724823, 2357.04728754, 4003.1352373, 3132.50728948,\n",
        "                  2491.71171306, 2790.25082972, 2276.60372847, 2969.04384609, 5942.98167604]\n",
        "m_s_t_t_b_s_ro = 3853.8902119768745\n",
        "d_s_t_t_b_s_ro = 2366.0664510221663\n",
        "```"
      ]
    },
    {
      "cell_type": "markdown",
      "metadata": {
        "id": "HPxZLc-hyMvE"
      },
      "source": [
        "### Tweak Book - Shifted Rastring\n",
        "```\n",
        "p = 0.02\n",
        "r = 10\n",
        "t_s = 3\n",
        "v_s_t_t_b_s_ra = [-253.08769207, -242.63259014, -238.21162395, -240.86140322, -248.32401529,\n",
        "                  -255.67282255, -255.24164896, -262.26210817, -246.59078615, -256.21777981]\n",
        "m_s_t_t_b_s_ra = -249.91024702985314\n",
        "d_s_t_t_b_s_ra = 7.41160793105595\n",
        "```"
      ]
    },
    {
      "cell_type": "markdown",
      "metadata": {
        "id": "kaGUVh8AsvMs"
      },
      "source": [
        "## Evolution Strategy"
      ]
    },
    {
      "cell_type": "markdown",
      "metadata": {
        "id": "dMTnSXZ5svMu"
      },
      "source": [
        "### Tweak Book - Shifted Sphere\n",
        "```\n",
        "p = 0.08\n",
        "r = 10\n",
        "pa = 4\n",
        "ch = 8\n",
        "v_e_s_t_b_s_s = [ -398.61950041, -393.61337499, -391.48464849, -401.70388244, -392.67623487,\n",
        "                  -386.26059611, -396.33062868, -387.56259527, -402.69792184, -382.80404004]\n",
        "m_e_s_t_b_s_s = -393.3753423128192\n",
        "d_e_s_t_b_s_s = 6.267297572944023\n",
        "```"
      ]
    },
    {
      "cell_type": "markdown",
      "metadata": {
        "id": "ZkcSqtd3svMv"
      },
      "source": [
        "### Tweak Book - Shifted Rosenbrock\n",
        "```\n",
        "p = 0.02\n",
        "r = 10\n",
        "pa = 6\n",
        "ch = 12\n",
        "v_e_s_t_b_s_ro = [7173.24270992,  591.81246416, 6786.03367258,  585.39822934,  698.38219895,\n",
        "                  761.6542849,  4081.48621717,  727.89032933,  782.91016796,  753.19015168]\n",
        "m_e_s_t_b_s_ro = 2294.200042598193\n",
        "d_e_s_t_b_s_ro = 2549.5393987820744\n",
        "```"
      ]
    },
    {
      "cell_type": "markdown",
      "metadata": {
        "id": "IftNLYxJsvMv"
      },
      "source": [
        "### Tweak Book - Shifted Rastring\n",
        "```\n",
        "p = 0.02\n",
        "r = 10\n",
        "pa = 6\n",
        "ch = 12\n",
        "v_e_s_t_b_s_ra = [-323.46413029, -324.96053899, -325.44402403, -323.24566281, -324.54282568,\n",
        "                  -324.26446687, -323.85943724, -321.74907162, -323.51264082, -323.79603952]\n",
        "m_e_s_t_b_s_ra = -323.8838837883337\n",
        "d_e_s_t_b_s_ra = 0.9725918709844927\n",
        "```"
      ]
    },
    {
      "cell_type": "markdown",
      "metadata": {
        "id": "Qj5O25f5tD-B"
      },
      "source": [
        "## Genetic Algorithm"
      ]
    },
    {
      "cell_type": "markdown",
      "metadata": {
        "id": "c2vJqnXKtD-E"
      },
      "source": [
        "### Tweak Book - Shifted Sphere\n",
        "```\n",
        "p = 0.02\n",
        "r = 10\n",
        "e_s = 2\n",
        "pop_s = 8\n",
        "to_s = 2\n",
        "v_g_a_t_b_s_s = [ -449.90513437, -449.90470852, -449.91241588, -449.87719647, -449.93038364, \n",
        "                  -449.96038546, -449.94569847, -449.94933834, -449.95296278, -449.94310217]\n",
        "m_g_a_t_b_s_s = -449.90596777416783\n",
        "d_g_a_t_b_s_s = 0.017133479280194472\n",
        "```"
      ]
    },
    {
      "cell_type": "markdown",
      "metadata": {
        "id": "YYkx1fMStD-E"
      },
      "source": [
        "### Tweak Book - Shifted Rosenbrock\n",
        "```\n",
        "p = 0.02\n",
        "r = 10\n",
        "e_s = 2\n",
        "pop_s = 4\n",
        "to_s = 2\n",
        "v_g_a_t_b_s_ro = [3.14401475e+10, 3.14315930e+10, 3.14358844e+10, 3.14550101e+10, 3.14464388e+10,\n",
        "                  3.14246774e+10, 3.14225704e+10, 3.14275398e+10, 3.14215488e+10, 3.14205256e+10]\n",
        "m_g_a_t_b_s_ro = 31423372379.49226\n",
        "d_g_a_t_b_s_ro = 2495723.8339522546\n",
        "```"
      ]
    },
    {
      "cell_type": "markdown",
      "metadata": {
        "id": "3psf8ZUDtD-F"
      },
      "source": [
        "### Tweak Book - Shifted Rastring\n",
        "```\n",
        "p = 0.02\n",
        "r = 10\n",
        "e_s = 6\n",
        "pop_s = 12\n",
        "to_s = 2\n",
        "v_g_a_t_b_s_ra = [-327.52377503, -327.8927173,  -327.54166978, -327.42871595, -328.38497646, \n",
        "                  -327.84529736, -327.87146515, -327.51256102, -328.29303198, -327.62737614]\n",
        "m_g_a_t_b_s_ra = -327.8299463288337\n",
        "d_g_a_t_b_s_ra = 0.2676474921660463\n",
        "```"
      ]
    },
    {
      "cell_type": "code",
      "metadata": {
        "id": "0hX7oFU-AqFS"
      },
      "source": [
        "def test_statistical_all():\n",
        "  v_h_c_t_b_s_s = [ -448.99958059, -449.08588058, -448.67478445, -448.8023115,  -448.88409216,\n",
        "                    -448.90467427, -448.79007768, -448.9659579,  -448.55792272, -448.75166424]\n",
        "  v_s_a_t_b_s_s = [ -443.48464097, -443.3793431, -441.89325212, -443.19748406, -442.75356732,\n",
        "                    -445.00679555, -443.78463621, -443.31465878, -443.84054266, -444.00018411]\n",
        "  v_s_t_t_b_s_s = [ -447.82517356, -448.49152267, -448.6959678,  -448.47626668, -448.11314914,\n",
        "                    -448.35987982, -448.35978147, -447.50214284, -448.66428286, -448.48921587]\n",
        "  v_e_s_t_b_s_s = [ -398.61950041, -393.61337499, -391.48464849, -401.70388244, -392.67623487,\n",
        "                    -386.26059611, -396.33062868, -387.56259527, -402.69792184, -382.80404004]\n",
        "  v_g_a_t_b_s_s = [ -449.90513437, -449.90470852, -449.91241588, -449.87719647, -449.93038364, \n",
        "                    -449.96038546, -449.94569847, -449.94933834, -449.95296278, -449.94310217]\n",
        "\n",
        "  v_h_c_t_b_s_ro = [1004.96216706, 1010.59483538, 1059.38723624, 1231.83968287, 1074.96875534,\n",
        "                    1133.96758412, 1157.28613874, 1113.96419956,  947.78057586,  993.149034  ]\n",
        "  v_s_a_t_b_s_ro = [980.47697763, 1156.61962987, 1196.1478509,  1140.65640393, 1087.63932609,\n",
        "                    1239.62264561, 1054.3994904,  1041.64757216, 1092.38879065, 1367.02406835]\n",
        "  v_s_t_t_b_s_ro = [2368.01326385, 10207.60724823, 2357.04728754, 4003.1352373, 3132.50728948,\n",
        "                    2491.71171306, 2790.25082972, 2276.60372847, 2969.04384609, 5942.98167604]\n",
        "  v_e_s_t_b_s_ro = [7173.24270992,  591.81246416, 6786.03367258,  585.39822934,  698.38219895,\n",
        "                    761.6542849,  4081.48621717,  727.89032933,  782.91016796,  753.19015168]\n",
        "  v_g_a_t_b_s_ro = [3.14401475e+10, 3.14315930e+10, 3.14358844e+10, 3.14550101e+10, 3.14464388e+10,\n",
        "                    3.14246774e+10, 3.14225704e+10, 3.14275398e+10, 3.14215488e+10, 3.14205256e+10]\n",
        "                  \n",
        "  v_h_c_t_b_s_ra = [-271.0592473, -271.18508148, -269.07648265, -268.94991295, -256.41134912,\n",
        "                    -268.5656181, -276.32074544, -268.08940459, -275.73561079, -266.18099865]\n",
        "  v_s_a_t_b_s_ra = [-263.10954392, -261.68169129, -246.04764288, -251.97618544, -261.55005478,\n",
        "                    -266.53617798, -252.56246195, -256.9262547,  -263.68921995, -263.71010443]\n",
        "  v_s_t_t_b_s_ra = [-253.08769207, -242.63259014, -238.21162395, -240.86140322, -248.32401529,\n",
        "                    -255.67282255, -255.24164896, -262.26210817, -246.59078615, -256.21777981]\n",
        "  v_e_s_t_b_s_ra = [-323.46413029, -324.96053899, -325.44402403, -323.24566281, -324.54282568,\n",
        "                    -324.26446687, -323.85943724, -321.74907162, -323.51264082, -323.79603952]\n",
        "  v_g_a_t_b_s_ra = [-327.52377503, -327.8927173,  -327.54166978, -327.42871595, -328.38497646, \n",
        "                    -327.84529736, -327.87146515, -327.51256102, -328.29303198, -327.62737614]\n",
        "\n",
        "  data_sphere = np.array([v_h_c_t_b_s_s, v_s_a_t_b_s_s ,v_s_t_t_b_s_s, v_e_s_t_b_s_s, v_g_a_t_b_s_s])\n",
        "  data_rosenbrock = np.array([v_h_c_t_b_s_ro, v_s_a_t_b_s_ro ,v_s_t_t_b_s_ro, v_e_s_t_b_s_ro, v_g_a_t_b_s_ro])\n",
        "  data_rastring = np.array([v_h_c_t_b_s_ra, v_s_a_t_b_s_ra ,v_s_t_t_b_s_ra, v_e_s_t_b_s_ra, v_g_a_t_b_s_ra])\n",
        "\n",
        "  print('SHIFTED SPHERE')\n",
        "  test_statistical(data_sphere)\n",
        "  print()\n",
        "  print('SHIFTED ROSENBROCK')\n",
        "  test_statistical(data_rosenbrock)\n",
        "  print()\n",
        "  print('SHIFTED RASTRING')\n",
        "  test_statistical(data_rastring)\n",
        "  print()"
      ],
      "execution_count": 22,
      "outputs": []
    },
    {
      "cell_type": "code",
      "metadata": {
        "colab": {
          "base_uri": "https://localhost:8080/"
        },
        "id": "GkR1TjUCsCup",
        "outputId": "f260369e-d921-4cae-8ea6-564d855e1346"
      },
      "source": [
        "def soma(a=0, b = 0, c=0):\n",
        "  print(c)\n",
        "  print(a + b * c)\n",
        "\n",
        "soma(c=3, b=0, a=2)"
      ],
      "execution_count": 23,
      "outputs": [
        {
          "output_type": "stream",
          "text": [
            "3\n",
            "2\n"
          ],
          "name": "stdout"
        }
      ]
    }
  ]
}