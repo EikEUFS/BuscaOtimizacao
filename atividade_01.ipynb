{
  "nbformat": 4,
  "nbformat_minor": 0,
  "metadata": {
    "colab": {
      "name": "atividade 01.ipynb",
      "provenance": [],
      "collapsed_sections": [],
      "authorship_tag": "ABX9TyMTHVjL8HEQwlITyyp1xrQT",
      "include_colab_link": true
    },
    "kernelspec": {
      "name": "python3",
      "display_name": "Python 3"
    }
  },
  "cells": [
    {
      "cell_type": "markdown",
      "metadata": {
        "id": "view-in-github",
        "colab_type": "text"
      },
      "source": [
        "<a href=\"https://colab.research.google.com/github/EikEUFS/Mestrado-BO-Atividade01/blob/master/atividade_01.ipynb\" target=\"_parent\"><img src=\"https://colab.research.google.com/assets/colab-badge.svg\" alt=\"Open In Colab\"/></a>"
      ]
    },
    {
      "cell_type": "code",
      "metadata": {
        "id": "oP6SiioNbb0u"
      },
      "source": [
        "import random\n",
        "import numpy as np\n",
        "import statistics"
      ],
      "execution_count": 1,
      "outputs": []
    },
    {
      "cell_type": "code",
      "metadata": {
        "id": "8k6RPP-LaU_M"
      },
      "source": [
        "n_solution = 100\n",
        "min_solution = -100\n",
        "max_solution = 100\n",
        "probability = 0.02\n",
        "exploration = 10\n",
        "avaliation = 50000\n",
        "repeat = 10\n",
        "bias = -450\n",
        "optimizer = [-65, -2, -21, 86, 65, -27, -91, 7, 86, 49, -58, 96, -77, 10, 86, -78, 48, 13, -28, 63, 95, -58, -96, \n",
        "            7, -21, -100, 42, 8, -67, 56, -99, 18, 34, -67, -46, -14, 78, -98, 34, 29, -47, 16, 62, 26, -20,-94,\n",
        "            -7, 87, -32, -7, 43, -36, -90, 95, 84, 60, 98, 0, 82, -21, 9, -84, 57, -61, 50, 84, 64, -82, -24, -85,\n",
        "            -80, 82, -63, -94, 19, -43, -100, -62, 3, -34, -83, 12, -68, -43, 95, -68, -8, 69, 89, -37, 64, -35,\n",
        "            -59, -83, -67, -93, 28, -76, -26, -65]"
      ],
      "execution_count": 2,
      "outputs": []
    },
    {
      "cell_type": "code",
      "metadata": {
        "id": "R5FBLsWcZ1lv"
      },
      "source": [
        "def create_random_vector(n_solution, min_solution, max_solution):\n",
        "  solution = []\n",
        "\n",
        "  for _ in range(n_solution):\n",
        "    value_random = random.randrange(min_solution, max_solution)\n",
        "    solution.append(value_random)\n",
        "  \n",
        "  return solution"
      ],
      "execution_count": 3,
      "outputs": []
    },
    {
      "cell_type": "code",
      "metadata": {
        "id": "GLqBxBfiaIsS"
      },
      "source": [
        "def shifted_sphere(solution, n_solution, optimizer, bias):\n",
        "  cost = 0\n",
        "\n",
        "  for i in range(n_solution):\n",
        "    value = solution[i] - optimizer[i]\n",
        "    cost += value * value\n",
        "    \n",
        "  return cost + bias"
      ],
      "execution_count": 4,
      "outputs": []
    },
    {
      "cell_type": "code",
      "metadata": {
        "id": "Slm97mTob5UF"
      },
      "source": [
        "def tweak_1(solution, n_solution, probability, exploration, min_solution, max_solution):\n",
        "  new_solution = solution.copy()\n",
        "\n",
        "  for i in range(n_solution):\n",
        "    random_probability = random.uniform(0, 1)\n",
        "    if (probability >= random_probability):\n",
        "      find = True\n",
        "      while (find):\n",
        "        random_exploration = random.randrange((-1 * exploration), exploration)\n",
        "        find = min_solution >= new_solution[i] + random_exploration and max_solution <= new_solution[i] + random_exploration\n",
        "      new_solution[i] -= random_exploration\n",
        "  \n",
        "  return new_solution "
      ],
      "execution_count": 5,
      "outputs": []
    },
    {
      "cell_type": "code",
      "metadata": {
        "id": "gNIAc5-neJgZ"
      },
      "source": [
        "def tweak_2(solution, n_solution, min_solution, max_solution):\n",
        "  new_solution = solution.copy()\n",
        "\n",
        "  index_random = random.randrange(len(new_solution) - 1)\n",
        "  value_random = random.randrange(min_solution, max_solution)\n",
        "\n",
        "  new_solution[index_random] = value_random\n",
        "\n",
        "  return new_solution"
      ],
      "execution_count": 6,
      "outputs": []
    },
    {
      "cell_type": "code",
      "metadata": {
        "id": "5zYPRkb7W2AO"
      },
      "source": [
        "def hill_climbing(optimizer, probability, exploration, avaliation, repeat, bias, n_solution, min_solution, max_solution):\n",
        "  costs_tweak_1 = []\n",
        "  costs_tweak_2 = []\n",
        "\n",
        "  for _ in range(repeat):\n",
        "    best_solution_tweak_1 = create_random_vector(n_solution, min_solution, max_solution)\n",
        "    best_cost_tweak_1 = shifted_sphere(best_solution_tweak_1, n_solution, optimizer, bias)   \n",
        "\n",
        "    best_solution_tweak_2 = create_random_vector(n_solution, min_solution, max_solution)\n",
        "    best_cost_tweak_2 = shifted_sphere(best_solution_tweak_2, n_solution, optimizer, bias)    \n",
        "\n",
        "    for _ in range(avaliation):\n",
        "      candidate_solution_tweak_1 = tweak_1(best_solution_tweak_1, n_solution, probability, exploration, min_solution, max_solution)\n",
        "      candidate_solution_tweak_2 = tweak_2(best_solution_tweak_2, n_solution, min_solution, max_solution)\n",
        "\n",
        "      candidate_cost_tweak_1 = shifted_sphere(candidate_solution_tweak_1, n_solution, optimizer, bias)\n",
        "      candidate_cost_tweak_2 = shifted_sphere(candidate_solution_tweak_2, n_solution, optimizer, bias)\n",
        "\n",
        "      if (candidate_cost_tweak_1 <= best_cost_tweak_1):\n",
        "        best_solution_tweak_1 = candidate_solution_tweak_1.copy()\n",
        "        best_cost_tweak_1 = candidate_cost_tweak_1\n",
        "\n",
        "      if (candidate_cost_tweak_2 <= best_cost_tweak_2):\n",
        "        best_solution_tweak_2 = candidate_solution_tweak_2.copy()\n",
        "        best_cost_tweak_2 = candidate_cost_tweak_2\n",
        "\n",
        "    costs_tweak_1.append(best_cost_tweak_1)\n",
        "    costs_tweak_2.append(best_cost_tweak_2)\n",
        "\n",
        "  return costs_tweak_1, costs_tweak_2"
      ],
      "execution_count": 7,
      "outputs": []
    },
    {
      "cell_type": "code",
      "metadata": {
        "id": "V9jfgzwI3KxI"
      },
      "source": [
        "costs_tweak_1, costs_tweak_2 = hill_climbing(optimizer, probability, exploration, avaliation, repeat, bias, n_solution, min_solution, max_solution)"
      ],
      "execution_count": 8,
      "outputs": []
    },
    {
      "cell_type": "code",
      "metadata": {
        "id": "HB7sfhJYuClO",
        "outputId": "6cd4e352-554b-49fc-b061-502b53da0cab",
        "colab": {
          "base_uri": "https://localhost:8080/",
          "height": 170
        }
      },
      "source": [
        "np_costs_tweak_1 = np.array(costs_tweak_1)\n",
        "np_costs_tweak_2 = np.array(costs_tweak_2)\n",
        "\n",
        "print(\"Tweak 01\")\n",
        "print(np.mean(np_costs_tweak_1))\n",
        "print(np.median(np_costs_tweak_1))\n",
        "print(statistics.stdev(np_costs_tweak_1))\n",
        "\n",
        "print()\n",
        "\n",
        "print(\"Tweak 02\")\n",
        "print(np.mean(np_costs_tweak_2))\n",
        "print(np.median(np_costs_tweak_2))\n",
        "print(statistics.stdev(np_costs_tweak_2))"
      ],
      "execution_count": 9,
      "outputs": [
        {
          "output_type": "stream",
          "text": [
            "Tweak 01\n",
            "-450.0\n",
            "-450.0\n",
            "0.0\n",
            "\n",
            "Tweak 02\n",
            "9643.2\n",
            "11258.0\n",
            "8078.941329159409\n"
          ],
          "name": "stdout"
        }
      ]
    }
  ]
}