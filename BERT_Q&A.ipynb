{
  "nbformat": 4,
  "nbformat_minor": 0,
  "metadata": {
    "colab": {
      "name": "BERT Q&A",
      "provenance": [],
      "collapsed_sections": [
        "qDIlHd5Tos6C",
        "tRbKrFYoo8e8"
      ],
      "include_colab_link": true
    },
    "kernelspec": {
      "name": "python3",
      "display_name": "Python 3"
    },
    "accelerator": "TPU"
  },
  "cells": [
    {
      "cell_type": "markdown",
      "metadata": {
        "id": "view-in-github",
        "colab_type": "text"
      },
      "source": [
        "<a href=\"https://colab.research.google.com/github/EikEUFS/BuscaOtimizacao/blob/master/BERT_Q%26A.ipynb\" target=\"_parent\"><img src=\"https://colab.research.google.com/assets/colab-badge.svg\" alt=\"Open In Colab\"/></a>"
      ]
    },
    {
      "cell_type": "markdown",
      "metadata": {
        "id": "aAUq7duyG5J0"
      },
      "source": [
        "# Etapa 1: Instalação e importação das bibliotecas\n",
        "\n",
        "- SQUAD Link: https://rajpurkar.github.io/SQuAD-explorer/"
      ]
    },
    {
      "cell_type": "code",
      "metadata": {
        "id": "UT9DBs7drn6D"
      },
      "source": [
        "!pip install sentencepiece\n",
        "!pip install tf-models-nightly\n",
        "!pip install tf-nightly"
      ],
      "execution_count": null,
      "outputs": []
    },
    {
      "cell_type": "code",
      "metadata": {
        "id": "JvsG3TaesS6E"
      },
      "source": [
        "import tensorflow as tf\n",
        "tf.__version__"
      ],
      "execution_count": null,
      "outputs": []
    },
    {
      "cell_type": "code",
      "metadata": {
        "id": "SvgoC31Msa5J"
      },
      "source": [
        "import tensorflow_hub as hub\n",
        "from official.nlp.bert.tokenization import FullTokenizer\n",
        "from official.nlp.bert.input_pipeline import create_squad_dataset\n",
        "from official.nlp.data.squad_lib import generate_tf_record_from_json_file\n",
        "from official.nlp import optimization\n",
        "from official.nlp.data.squad_lib import read_squad_examples\n",
        "from official.nlp.data.squad_lib import FeatureWriter\n",
        "from official.nlp.data.squad_lib import convert_examples_to_features\n",
        "from official.nlp.data.squad_lib import write_predictions "
      ],
      "execution_count": null,
      "outputs": []
    },
    {
      "cell_type": "code",
      "metadata": {
        "id": "PZuUKOhRtI_J"
      },
      "source": [
        "import numpy as np\n",
        "import math\n",
        "import random\n",
        "import time\n",
        "import json\n",
        "import collections\n",
        "import os\n",
        "from google.colab import drive"
      ],
      "execution_count": null,
      "outputs": []
    },
    {
      "cell_type": "markdown",
      "metadata": {
        "id": "iSGw1I_zHAb5"
      },
      "source": [
        "# Etapa 2: Pré-processamento"
      ]
    },
    {
      "cell_type": "code",
      "metadata": {
        "id": "0JkKHNnoubd_"
      },
      "source": [
        "drive.mount(\"/content/drive\")"
      ],
      "execution_count": null,
      "outputs": []
    },
    {
      "cell_type": "code",
      "metadata": {
        "id": "E5YAnEeuulUU"
      },
      "source": [
        "input_meta_data = generate_tf_record_from_json_file(\n",
        "    \"/content/drive/MyDrive/PLN/BERT-Q&A/train-v1.1.json\",\n",
        "    \"/content/drive/MyDrive/PLN/BERT-Q&A/vocab.txt\",\n",
        "    \"/content/drive/MyDrive/PLN/BERT-Q&A/train-v1.1.tf_record\"\n",
        ")"
      ],
      "execution_count": null,
      "outputs": []
    },
    {
      "cell_type": "code",
      "metadata": {
        "id": "Zl_1HyuKv-gO"
      },
      "source": [
        "with tf.io.gfile.GFile(\"/content/drive/MyDrive/PLN/BERT-Q&A/train_meta_data\", \"w\") as writer:\n",
        "  writer.write(json.dumps(input_meta_data, indent=4) + \"\\n\")"
      ],
      "execution_count": null,
      "outputs": []
    },
    {
      "cell_type": "code",
      "metadata": {
        "id": "Ck5pC9Oowe44"
      },
      "source": [
        "BATCH_SIZE = 4\n",
        "train_dataset = create_squad_dataset(\n",
        "    \"/content/drive/MyDrive/PLN/BERT-Q&A/train-v1.1.tf_record\",\n",
        "    input_meta_data['max_seq_length'], # 384\n",
        "    BATCH_SIZE,\n",
        "    is_training = True\n",
        ")"
      ],
      "execution_count": null,
      "outputs": []
    },
    {
      "cell_type": "markdown",
      "metadata": {
        "id": "F4939RJqHRUs"
      },
      "source": [
        "# Etapa 3: Construção do modelo"
      ]
    },
    {
      "cell_type": "markdown",
      "metadata": {
        "id": "lcQcFi8kOc6K"
      },
      "source": [
        "## Camada Squad"
      ]
    },
    {
      "cell_type": "code",
      "metadata": {
        "id": "GqvNOk-g4odq"
      },
      "source": [
        "class BertSquardLayer(tf.keras.layers.Layer):\n",
        "  def __init__(self):\n",
        "    super(BertSquardLayer, self).__init__()\n",
        "    self.final_dense = tf.keras.layers.Dense(units=2,\n",
        "                                             kernel_initializer=tf.keras.initializers.TruncatedNormal(stddev=0.02))\n",
        "    \n",
        "  def call(self, inputs):\n",
        "    logits = self.final_dense(inputs) # (batch_size, seq_len, 2)\n",
        "    logits = tf.transpose(logits, [2, 0, 1]) # (2, batch_size, seq_len)\n",
        "    unstacked_logits = tf.unstack(logits, axis=0) # [(batch_size, seq_len), (batch_size, seq_len)]\n",
        "    return unstacked_logits[0], unstacked_logits[1] "
      ],
      "execution_count": null,
      "outputs": []
    },
    {
      "cell_type": "markdown",
      "metadata": {
        "id": "aQbQFKjUOeyf"
      },
      "source": [
        "## Modelo completo"
      ]
    },
    {
      "cell_type": "code",
      "metadata": {
        "id": "g_t4ksCC7BkT"
      },
      "source": [
        "class BERTSquad(tf.keras.Model):\n",
        "  def __init__(self, name=\"bert_squad\"):\n",
        "    super(BERTSquad, self).__init__(name=name)\n",
        "    self.bert_layer = hub.KerasLayer(\"https://tfhub.dev/tensorflow/bert_en_uncased_L-12_H-768_A-12/1\",\n",
        "                                     trainable = True)\n",
        "    self.squad_layer = BertSquardLayer()\n",
        "\n",
        "  def apply_bert(self, inputs):\n",
        "    _, sequence_output = self.bert_layer([inputs[\"input_word_ids\"],\n",
        "                                          inputs[\"input_mask\"],\n",
        "                                          inputs[\"input_type_ids\"]])\n",
        "    return sequence_output\n",
        "\n",
        "  def call(self, inputs):\n",
        "    seq_outputs = self.apply_bert(inputs)\n",
        "    start_logits, end_logits = self.squad_layer(seq_outputs)\n",
        "    return start_logits, end_logits"
      ],
      "execution_count": null,
      "outputs": []
    },
    {
      "cell_type": "markdown",
      "metadata": {
        "id": "lBmSU2RnHV_a"
      },
      "source": [
        "# Etapa 4: Treinamento"
      ]
    },
    {
      "cell_type": "markdown",
      "metadata": {
        "id": "WnA3WHwRIHAZ"
      },
      "source": [
        "## Criação da IA"
      ]
    },
    {
      "cell_type": "code",
      "metadata": {
        "id": "wlMKUabY9TA8"
      },
      "source": [
        "TRAIN_DATA_SIZE = 88641\n",
        "NB_BATCHES_TRAIN = 2000\n",
        "BATCH_SIZE = 4\n",
        "NB_EPOCHS = 3\n",
        "INIT_LR = 5e-5\n",
        "WARMUP_STEPS = int(NB_BATCHES_TRAIN * 0.1)"
      ],
      "execution_count": null,
      "outputs": []
    },
    {
      "cell_type": "code",
      "metadata": {
        "id": "GsyxrxGF-K4j"
      },
      "source": [
        "train_dataset_light = train_dataset.take(NB_BATCHES_TRAIN)"
      ],
      "execution_count": null,
      "outputs": []
    },
    {
      "cell_type": "code",
      "metadata": {
        "id": "XZTCoAnr-SGH"
      },
      "source": [
        "bert_squad = BERTSquad()"
      ],
      "execution_count": null,
      "outputs": []
    },
    {
      "cell_type": "code",
      "metadata": {
        "id": "JZVWgUGV-XVQ"
      },
      "source": [
        "optimizer = optimization.create_optimizer(init_lr=INIT_LR,\n",
        "                                          num_train_steps=NB_BATCHES_TRAIN,\n",
        "                                          num_warmup_steps = WARMUP_STEPS)"
      ],
      "execution_count": null,
      "outputs": []
    },
    {
      "cell_type": "code",
      "metadata": {
        "id": "-mz6_N-n-myi"
      },
      "source": [
        "def squad_loss_fn(labels, model_outputs):\n",
        "  start_positions = labels['start_positions']\n",
        "  end_positions = labels['end_positions']\n",
        "  start_logits, end_logits = model_outputs\n",
        "\n",
        "  start_loss = tf.keras.backend.sparse_categorical_crossentropy(start_positions, start_logits, from_logits=True)\n",
        "  end_loss = tf.keras.backend.sparse_categorical_crossentropy(end_positions, end_logits, from_logits=True)\n",
        "\n",
        "  total_loss = (tf.reduce_mean(start_loss) + tf.reduce_mean(end_loss)) / 2\n",
        "\n",
        "  return total_loss"
      ],
      "execution_count": null,
      "outputs": []
    },
    {
      "cell_type": "code",
      "metadata": {
        "id": "nQUzfOQ__3Hj"
      },
      "source": [
        "train_loss = tf.keras.metrics.Mean(name=\"train_loss\")"
      ],
      "execution_count": null,
      "outputs": []
    },
    {
      "cell_type": "code",
      "metadata": {
        "id": "yk9_8xqe_8yN"
      },
      "source": [
        "bert_squad.compile(optimizer, squad_loss_fn)"
      ],
      "execution_count": null,
      "outputs": []
    },
    {
      "cell_type": "code",
      "metadata": {
        "id": "Hjp-_4OyTbuK"
      },
      "source": [
        "checkpoint_path = \"/content/drive/MyDrive/PLN/BERT-Q&A/\"\n",
        "ckpt = tf.train.Checkpoint(bert_squad=bert_squad)\n",
        "ckpt_manager = tf.train.CheckpointManager(ckpt, checkpoint_path, max_to_keep=1)\n",
        "if ckpt_manager.latest_checkpoint:\n",
        "    ckpt.restore(ckpt_manager.latest_checkpoint)\n",
        "    print(\"Latest checkpoint restored!!\")"
      ],
      "execution_count": null,
      "outputs": []
    },
    {
      "cell_type": "markdown",
      "metadata": {
        "id": "bDgEq09xIOOl"
      },
      "source": [
        "## Treinamento personalizado"
      ]
    },
    {
      "cell_type": "code",
      "metadata": {
        "id": "J7bsKxElBmWh"
      },
      "source": [
        "for epoch in range(NB_EPOCHS):\n",
        "  print(\"Start of epoch {}\".format(epoch + 1))\n",
        "  start = time.time()\n",
        "\n",
        "  train_loss.reset_states()\n",
        "\n",
        "  for (batch, (inputs, targets)) in enumerate(train_dataset_light):\n",
        "    with tf.GradientTape() as tape:\n",
        "      model_outputs = bert_squad(inputs)\n",
        "      loss = squad_loss_fn(targets, model_outputs)\n",
        "    \n",
        "    gradients = tape.gradient(loss, bert_squad.trainable_variables)\n",
        "    optimizer.apply_gradients(zip(gradients, bert_squad.trainable_variables))\n",
        "\n",
        "    train_loss(loss)\n",
        "\n",
        "    if batch % 50 == 0:\n",
        "      print(\"Epoch {} Batch {} Loss {:.4f}\".format(epoch+1, batch, train_loss.result()))\n",
        "\n",
        "    if batch % 500 == 0:\n",
        "      ckpt_save_path = ckpt_manager.save()\n",
        "      print(\"Saving checkpoint for epoch {} at {}\".format(epoch+1, ckpt_save_path))\n",
        "  \n",
        "  print(\"Time taken for 1 epoch: {} secs\\n\".format(time.time() - start))"
      ],
      "execution_count": null,
      "outputs": []
    },
    {
      "cell_type": "markdown",
      "metadata": {
        "id": "v6WquTCiIR7t"
      },
      "source": [
        "# Etapa 5: Avaliação"
      ]
    },
    {
      "cell_type": "markdown",
      "metadata": {
        "id": "qDIlHd5Tos6C"
      },
      "source": [
        "## Preparação da avaliação"
      ]
    },
    {
      "cell_type": "markdown",
      "metadata": {
        "id": "kU7_AyTIpTTJ"
      },
      "source": [
        "Obter o conjunto dev na sessão"
      ]
    },
    {
      "cell_type": "code",
      "metadata": {
        "id": "VGKl84s5WrhD"
      },
      "source": [
        "eval_examples = read_squad_examples(\n",
        "    \"/content/drive/MyDrive/PLN/BERT-Q&A/dev-v1.1.json\",\n",
        "    is_training=False,\n",
        "    version_2_with_negative=False)"
      ],
      "execution_count": null,
      "outputs": []
    },
    {
      "cell_type": "markdown",
      "metadata": {
        "id": "DAEUcZDSpYLD"
      },
      "source": [
        "Definição da função que gerará o arquivo tf_record"
      ]
    },
    {
      "cell_type": "code",
      "metadata": {
        "id": "yCVmIgnEo83o"
      },
      "source": [
        "eval_writer = FeatureWriter(\n",
        "    filename=os.path.join(\"/content/drive/MyDrive/PLN/BERT-Q&A/\",\n",
        "                          \"eval.tf_record\"),\n",
        "    is_training=False)"
      ],
      "execution_count": null,
      "outputs": []
    },
    {
      "cell_type": "markdown",
      "metadata": {
        "id": "C8aSLFdmp71I"
      },
      "source": [
        "Criação do tokenizador"
      ]
    },
    {
      "cell_type": "code",
      "metadata": {
        "id": "oH5exQ7KwnuH"
      },
      "source": [
        "my_bert_layer = hub.KerasLayer(\n",
        "    \"https://tfhub.dev/tensorflow/bert_en_uncased_L-12_H-768_A-12/1\",\n",
        "    trainable=False)\n",
        "vocab_file = my_bert_layer.resolved_object.vocab_file.asset_path.numpy()\n",
        "do_lower_case = my_bert_layer.resolved_object.do_lower_case.numpy()\n",
        "tokenizer = FullTokenizer(vocab_file, do_lower_case)"
      ],
      "execution_count": null,
      "outputs": []
    },
    {
      "cell_type": "markdown",
      "metadata": {
        "id": "vdHudjJ_qAzo"
      },
      "source": [
        "Criação da função que adicona características na lista eva_features"
      ]
    },
    {
      "cell_type": "code",
      "metadata": {
        "id": "bmQ5GtoTxRjU"
      },
      "source": [
        "def _append_feature(feature, is_padding):\n",
        "    if not is_padding:\n",
        "        eval_features.append(feature)\n",
        "    eval_writer.process_feature(feature)"
      ],
      "execution_count": null,
      "outputs": []
    },
    {
      "cell_type": "markdown",
      "metadata": {
        "id": "HLAcwCiaqHi_"
      },
      "source": [
        "Criação das características e geração do arquivo tf.record"
      ]
    },
    {
      "cell_type": "code",
      "metadata": {
        "id": "mz7kGYmUwGQb"
      },
      "source": [
        "eval_features = []\n",
        "dataset_size = convert_examples_to_features(\n",
        "    examples=eval_examples,\n",
        "    tokenizer=tokenizer,\n",
        "    max_seq_length=384,\n",
        "    doc_stride=128,\n",
        "    max_query_length=64,\n",
        "    is_training=False,\n",
        "    output_fn=_append_feature,\n",
        "    batch_size=4)"
      ],
      "execution_count": null,
      "outputs": []
    },
    {
      "cell_type": "code",
      "metadata": {
        "id": "WpZfwPEwMabx"
      },
      "source": [
        "eval_writer.close()"
      ],
      "execution_count": null,
      "outputs": []
    },
    {
      "cell_type": "markdown",
      "metadata": {
        "id": "TbKhx3zuq844"
      },
      "source": [
        "Carregamento da base de dados"
      ]
    },
    {
      "cell_type": "code",
      "metadata": {
        "id": "eUqYvG5TxctF"
      },
      "source": [
        "BATCH_SIZE = 4\n",
        "\n",
        "eval_dataset = create_squad_dataset(\n",
        "    \"/content/drive/MyDrive/PLN/BERT-Q&A/eval.tf_record\",\n",
        "    384, # input_meta_data['max_seq_length'],\n",
        "    BATCH_SIZE,\n",
        "    is_training=False)"
      ],
      "execution_count": null,
      "outputs": []
    },
    {
      "cell_type": "markdown",
      "metadata": {
        "id": "tRbKrFYoo8e8"
      },
      "source": [
        "## Fazendo as previsões com as funções do Google"
      ]
    },
    {
      "cell_type": "code",
      "metadata": {
        "id": "o-ANeWWPXaAp"
      },
      "source": [
        "RawResult = collections.namedtuple(\"RawResult\",\n",
        "                                   [\"unique_id\", \"start_logits\", \"end_logits\"])"
      ],
      "execution_count": null,
      "outputs": []
    },
    {
      "cell_type": "code",
      "metadata": {
        "id": "jIciBG8lXyuD"
      },
      "source": [
        "def get_raw_results(predictions):\n",
        "  for unique_ids, start_logits, end_logits in zip(predictions['unique_ids'],\n",
        "                                                  predictions['start_logits'],\n",
        "                                                  predictions['end_logits']):\n",
        "    yield RawResult(\n",
        "        unique_id=unique_ids.numpy(),\n",
        "        start_logits=start_logits.numpy().tolist(),\n",
        "        end_logits=end_logits.numpy().tolist()\n",
        "    )"
      ],
      "execution_count": null,
      "outputs": []
    },
    {
      "cell_type": "code",
      "metadata": {
        "id": "TrZwxU6yYnKq"
      },
      "source": [
        "all_results = []\n",
        "for count, inputs in enumerate(eval_dataset):\n",
        "  x, _ = inputs\n",
        "  #print(x)\n",
        "  unique_ids = x.pop(\"unique_ids\")\n",
        "  start_logits, end_logits = bert_squad(x, training=False)\n",
        "  output_dict = dict(\n",
        "      unique_ids = unique_ids,\n",
        "      start_logits=start_logits,\n",
        "      end_logits=end_logits\n",
        "  )\n",
        "  for result in get_raw_results(output_dict):\n",
        "    all_results.append(result)\n",
        "  \n",
        "  print(count)\n",
        "  if count % 100 == 0:\n",
        "    print(\"{}/{}\".format(count, 2709))"
      ],
      "execution_count": null,
      "outputs": []
    },
    {
      "cell_type": "code",
      "metadata": {
        "id": "RDIK4WseZUaK"
      },
      "source": [
        "len(all_results)"
      ],
      "execution_count": null,
      "outputs": []
    },
    {
      "cell_type": "code",
      "metadata": {
        "id": "OrdG95S-hCes"
      },
      "source": [
        "all_results[0]"
      ],
      "execution_count": null,
      "outputs": []
    },
    {
      "cell_type": "code",
      "metadata": {
        "id": "pAsehQkahsMF"
      },
      "source": [
        "output_prediction_file = \"/content/drive/MyDrive/PLN/BERT-Q&A/predictions.json\"\n",
        "output_nbest_file = \"/content/drive/MyDrive/PLN/BERT-Q&A/nbest_predictions.json\"\n",
        "output_null_log_odds_file = \"/content/drive/MyDrive/PLN/BERT-Q&A/null_odds.json\""
      ],
      "execution_count": null,
      "outputs": []
    },
    {
      "cell_type": "code",
      "metadata": {
        "id": "_e8g8JTAiEWQ"
      },
      "source": [
        "write_predictions(\n",
        "    eval_examples,\n",
        "    eval_features,\n",
        "    all_results,\n",
        "    20,\n",
        "    30,\n",
        "    True,\n",
        "    output_prediction_file,\n",
        "    output_nbest_file,\n",
        "    output_null_log_odds_file,\n",
        "    verbose=False\n",
        ")"
      ],
      "execution_count": null,
      "outputs": []
    },
    {
      "cell_type": "markdown",
      "metadata": {
        "id": "-eaIHyDIYHHx"
      },
      "source": [
        "## Fazendo previsões personalizadas"
      ]
    },
    {
      "cell_type": "markdown",
      "metadata": {
        "id": "P0F4l5h8Zdha"
      },
      "source": [
        "### Criação do dicionário de inputs"
      ]
    },
    {
      "cell_type": "code",
      "metadata": {
        "id": "OBjGoQ_wfmml"
      },
      "source": [
        "my_bert_layer = hub.KerasLayer(\n",
        "    \"https://tfhub.dev/tensorflow/bert_en_uncased_L-12_H-768_A-12/1\",\n",
        "    trainable=False)\n",
        "vocab_file = my_bert_layer.resolved_object.vocab_file.asset_path.numpy()\n",
        "do_lower_case = my_bert_layer.resolved_object.do_lower_case.numpy()\n",
        "tokenizer = FullTokenizer(vocab_file, do_lower_case)"
      ],
      "execution_count": null,
      "outputs": []
    },
    {
      "cell_type": "code",
      "metadata": {
        "id": "2Ym06baFpwl8"
      },
      "source": [
        "def is_whitespace(c):\n",
        "  if c == \" \" or c == \"\\t\" or c == \"\\r\" or c == \"\\n\" or ord(c) == 0x202F:\n",
        "    return True\n",
        "  return False"
      ],
      "execution_count": null,
      "outputs": []
    },
    {
      "cell_type": "code",
      "metadata": {
        "id": "PfwF4Dl5qacP",
        "colab": {
          "base_uri": "https://localhost:8080/",
          "height": 34
        },
        "outputId": "9d39cbfe-d811-4599-fc35-86b4818199bb"
      },
      "source": [
        "is_whitespace(\"a\")"
      ],
      "execution_count": null,
      "outputs": [
        {
          "output_type": "execute_result",
          "data": {
            "text/plain": [
              "False"
            ]
          },
          "metadata": {
            "tags": []
          },
          "execution_count": 37
        }
      ]
    },
    {
      "cell_type": "code",
      "metadata": {
        "id": "79B0iuKlqfed",
        "colab": {
          "base_uri": "https://localhost:8080/",
          "height": 34
        },
        "outputId": "7525ea94-2121-49cd-b111-4037b18eb39b"
      },
      "source": [
        "is_whitespace(\"\\n\")"
      ],
      "execution_count": null,
      "outputs": [
        {
          "output_type": "execute_result",
          "data": {
            "text/plain": [
              "True"
            ]
          },
          "metadata": {
            "tags": []
          },
          "execution_count": 38
        }
      ]
    },
    {
      "cell_type": "code",
      "metadata": {
        "id": "z275QUYJqisR",
        "colab": {
          "base_uri": "https://localhost:8080/",
          "height": 34
        },
        "outputId": "0999f4cc-4f1b-46f1-cb1a-d0b36adf202e"
      },
      "source": [
        "is_whitespace(\" \")"
      ],
      "execution_count": null,
      "outputs": [
        {
          "output_type": "execute_result",
          "data": {
            "text/plain": [
              "True"
            ]
          },
          "metadata": {
            "tags": []
          },
          "execution_count": 41
        }
      ]
    },
    {
      "cell_type": "code",
      "metadata": {
        "id": "6ePnuokzqvLy"
      },
      "source": [
        "def whitespace_split(text):\n",
        "  doc_tokens = []\n",
        "  prev_is_whitespace = True\n",
        "  for c in text:\n",
        "    if is_whitespace(c):\n",
        "      prev_is_whitespace = True\n",
        "    else:\n",
        "      if prev_is_whitespace:\n",
        "        doc_tokens.append(c)\n",
        "      else:\n",
        "        doc_tokens[-1] += c\n",
        "      prev_is_whitespace = False\n",
        "  return doc_tokens"
      ],
      "execution_count": null,
      "outputs": []
    },
    {
      "cell_type": "code",
      "metadata": {
        "id": "U1wiH7asreK2",
        "colab": {
          "base_uri": "https://localhost:8080/",
          "height": 34
        },
        "outputId": "f030e8ec-8e85-41d9-c24d-4b6a26d34cf8"
      },
      "source": [
        "whitespace_split(\"My dog likes strawberries.\")"
      ],
      "execution_count": null,
      "outputs": [
        {
          "output_type": "execute_result",
          "data": {
            "text/plain": [
              "['My', 'dog', 'likes', 'strawberries.']"
            ]
          },
          "metadata": {
            "tags": []
          },
          "execution_count": 43
        }
      ]
    },
    {
      "cell_type": "code",
      "metadata": {
        "id": "m2dqla0Ms_sn",
        "colab": {
          "base_uri": "https://localhost:8080/",
          "height": 34
        },
        "outputId": "d5cecbae-f6c0-4316-9218-a94cfdd614b5"
      },
      "source": [
        "tokenizer.tokenize(\"My\")"
      ],
      "execution_count": null,
      "outputs": [
        {
          "output_type": "execute_result",
          "data": {
            "text/plain": [
              "['my']"
            ]
          },
          "metadata": {
            "tags": []
          },
          "execution_count": 44
        }
      ]
    },
    {
      "cell_type": "code",
      "metadata": {
        "id": "qbUVsOkQtEAC",
        "colab": {
          "base_uri": "https://localhost:8080/",
          "height": 34
        },
        "outputId": "970ee219-b358-4e24-b02a-ef33324dceef"
      },
      "source": [
        "t = tokenizer.tokenize(\"strawberries\")\n",
        "t"
      ],
      "execution_count": null,
      "outputs": [
        {
          "output_type": "execute_result",
          "data": {
            "text/plain": [
              "['straw', '##berries']"
            ]
          },
          "metadata": {
            "tags": []
          },
          "execution_count": 46
        }
      ]
    },
    {
      "cell_type": "code",
      "metadata": {
        "id": "DVYE-lWHtWzv",
        "colab": {
          "base_uri": "https://localhost:8080/",
          "height": 34
        },
        "outputId": "2d1fca75-1e08-4b24-99dc-60034d00ca41"
      },
      "source": [
        "len(t)"
      ],
      "execution_count": null,
      "outputs": [
        {
          "output_type": "execute_result",
          "data": {
            "text/plain": [
              "2"
            ]
          },
          "metadata": {
            "tags": []
          },
          "execution_count": 47
        }
      ]
    },
    {
      "cell_type": "code",
      "metadata": {
        "id": "38NVIT4EtfkP",
        "colab": {
          "base_uri": "https://localhost:8080/",
          "height": 34
        },
        "outputId": "2d3a6b35-c45b-413f-905e-50ea26b516d4"
      },
      "source": [
        "[1] * len(t)"
      ],
      "execution_count": null,
      "outputs": [
        {
          "output_type": "execute_result",
          "data": {
            "text/plain": [
              "[1, 1]"
            ]
          },
          "metadata": {
            "tags": []
          },
          "execution_count": 49
        }
      ]
    },
    {
      "cell_type": "code",
      "metadata": {
        "id": "zCcfDrqxsC4Y"
      },
      "source": [
        "def tokenize_context(text_words):\n",
        "  text_tok = []\n",
        "  tok_to_word_id = []\n",
        "  for word_id, word in enumerate(text_words):\n",
        "    word_tok = tokenizer.tokenize(word)\n",
        "    text_tok += word_tok\n",
        "    tok_to_word_id += [word_id] * len(word_tok) \n",
        "  return text_tok, tok_to_word_id"
      ],
      "execution_count": null,
      "outputs": []
    },
    {
      "cell_type": "code",
      "metadata": {
        "id": "3hepK7DMt48e",
        "colab": {
          "base_uri": "https://localhost:8080/",
          "height": 34
        },
        "outputId": "73a8c68c-a910-48c7-8f07-444f76bb398f"
      },
      "source": [
        "tokenize_context(whitespace_split(\"My dog likes strawberries.\"))"
      ],
      "execution_count": null,
      "outputs": [
        {
          "output_type": "execute_result",
          "data": {
            "text/plain": [
              "(['my', 'dog', 'likes', 'straw', '##berries', '.'], [0, 1, 2, 3, 3, 3])"
            ]
          },
          "metadata": {
            "tags": []
          },
          "execution_count": 51
        }
      ]
    },
    {
      "cell_type": "code",
      "metadata": {
        "id": "23DqfgC5uR_0"
      },
      "source": [
        "def get_ids(tokens):\n",
        "    return tokenizer.convert_tokens_to_ids(tokens)\n",
        "\n",
        "def get_mask(tokens):\n",
        "    return np.char.not_equal(tokens, \"[PAD]\").astype(int)\n",
        "\n",
        "def get_segments(tokens):\n",
        "    seg_ids = []\n",
        "    current_seg_id = 0\n",
        "    for tok in tokens:\n",
        "        seg_ids.append(current_seg_id)\n",
        "        if tok == \"[SEP]\":\n",
        "            current_seg_id = 1-current_seg_id\n",
        "    return seg_ids"
      ],
      "execution_count": null,
      "outputs": []
    },
    {
      "cell_type": "code",
      "metadata": {
        "id": "tNVSJvzsu4Wi"
      },
      "source": [
        "my_context = '''Neoclassical economics views inequalities in the distribution of income as arising from differences in value added by labor, capital and land. Within labor income distribution is due to differences in value added by different classifications of workers. In this perspective, wages and profits are determined by the marginal value added of each economic actor (worker, capitalist/business owner, landlord). Thus, in a market economy, inequality is a reflection of the productivity gap between highly-paid professions and lower-paid professions.'''"
      ],
      "execution_count": null,
      "outputs": []
    },
    {
      "cell_type": "markdown",
      "metadata": {
        "id": "yKx4jBf8u8fq"
      },
      "source": [
        "Neoclassical economics views inequalities in the distribution of income as arising from differences in value added by labor, capital and land. Within labor income distribution is due to differences in value added by different classifications of workers. In this perspective, wages and profits are determined by the marginal value added of each economic actor (worker, capitalist/business owner, landlord). Thus, in a market economy, inequality is a reflection of the productivity gap between highly-paid professions and lower-paid professions."
      ]
    },
    {
      "cell_type": "code",
      "metadata": {
        "id": "I02c_4rrvEeI"
      },
      "source": [
        "my_question = '''What are examples of economic actors?'''\n",
        "#my_question = '''What philosophy of thought addresses wealth inequality?'''\n",
        "#my_question = '''In a market economy, what is inequality a reflection of?'''"
      ],
      "execution_count": null,
      "outputs": []
    },
    {
      "cell_type": "code",
      "metadata": {
        "id": "wQIye3SMyDVG"
      },
      "source": [
        "def create_input_dict(question, context):\n",
        "  question_tok = tokenizer.tokenize(my_question)\n",
        "  #print(question_tok)\n",
        "\n",
        "  context_words = whitespace_split(context)\n",
        "  #print(context_words)\n",
        "  context_tok, context_tok_to_word_id = tokenize_context(context_words)\n",
        "  #print(context_tok)\n",
        "  #print(context_tok_to_word_id)\n",
        "\n",
        "  input_tok = question_tok + [\"[SEP]\"] + context_tok + [\"[SEP]\"]\n",
        "  #print(input_tok)\n",
        "  input_tok += [\"[PAD]\"]*(384-len(input_tok))\n",
        "  #print(input_tok)\n",
        "\n",
        "  input_dict = {}\n",
        "  input_dict[\"input_word_ids\"] = tf.expand_dims(tf.cast(get_ids(input_tok), tf.int32), 0)\n",
        "  input_dict[\"input_mask\"] = tf.expand_dims(tf.cast(get_mask(input_tok), tf.int32), 0)\n",
        "  input_dict[\"input_type_ids\"] = tf.expand_dims(tf.cast(get_segments(input_tok), tf.int32), 0)\n",
        "\n",
        "  return input_dict, context_words, context_tok_to_word_id, len(question_tok)"
      ],
      "execution_count": null,
      "outputs": []
    },
    {
      "cell_type": "code",
      "metadata": {
        "id": "P7zdHiJ5yRcQ"
      },
      "source": [
        "my_input_dict, my_context_words, context_tok_to_word_id, question_tok_len = create_input_dict(my_question, my_context)"
      ],
      "execution_count": null,
      "outputs": []
    },
    {
      "cell_type": "code",
      "metadata": {
        "id": "KVVE-Oid06fz",
        "colab": {
          "base_uri": "https://localhost:8080/",
          "height": 756
        },
        "outputId": "034ff153-f37e-4f81-c70e-04b5de380ecf"
      },
      "source": [
        "my_input_dict[\"input_word_ids\"]"
      ],
      "execution_count": null,
      "outputs": [
        {
          "output_type": "execute_result",
          "data": {
            "text/plain": [
              "<tf.Tensor: shape=(1, 384), dtype=int32, numpy=\n",
              "array([[ 2054,  2024,  4973,  1997,  3171,  5889,  1029,   102, 22657,\n",
              "         5543,  5328,  1999,  2063, 26426,  6447,  1999,  1996,  4353,\n",
              "         1997,  3318,  2004, 17707,  2013,  5966,  1999,  3643,  2794,\n",
              "         2011,  4450,  1010,  3007,  1998,  2455,  1012,  2306,  4450,\n",
              "         3318,  4353,  2003,  2349,  2000,  5966,  1999,  3643,  2794,\n",
              "         2011,  2367, 26739,  1997,  3667,  1012,  1999,  2023,  7339,\n",
              "         1010, 12678,  1998, 11372,  2024,  4340,  2011,  1996, 14785,\n",
              "         3643,  2794,  1997,  2169,  3171,  3364,  1006,  7309,  1010,\n",
              "        19640,  1013,  2449,  3954,  1010, 18196,  1007,  1012,  2947,\n",
              "         1010,  1999,  1037,  3006,  4610,  1010, 16440,  2003,  1037,\n",
              "         9185,  1997,  1996, 15836,  6578,  2090,  3811,  1011,  3825,\n",
              "        22797,  1998,  2896,  1011,  3825, 22797,  1012,   102,     0,\n",
              "            0,     0,     0,     0,     0,     0,     0,     0,     0,\n",
              "            0,     0,     0,     0,     0,     0,     0,     0,     0,\n",
              "            0,     0,     0,     0,     0,     0,     0,     0,     0,\n",
              "            0,     0,     0,     0,     0,     0,     0,     0,     0,\n",
              "            0,     0,     0,     0,     0,     0,     0,     0,     0,\n",
              "            0,     0,     0,     0,     0,     0,     0,     0,     0,\n",
              "            0,     0,     0,     0,     0,     0,     0,     0,     0,\n",
              "            0,     0,     0,     0,     0,     0,     0,     0,     0,\n",
              "            0,     0,     0,     0,     0,     0,     0,     0,     0,\n",
              "            0,     0,     0,     0,     0,     0,     0,     0,     0,\n",
              "            0,     0,     0,     0,     0,     0,     0,     0,     0,\n",
              "            0,     0,     0,     0,     0,     0,     0,     0,     0,\n",
              "            0,     0,     0,     0,     0,     0,     0,     0,     0,\n",
              "            0,     0,     0,     0,     0,     0,     0,     0,     0,\n",
              "            0,     0,     0,     0,     0,     0,     0,     0,     0,\n",
              "            0,     0,     0,     0,     0,     0,     0,     0,     0,\n",
              "            0,     0,     0,     0,     0,     0,     0,     0,     0,\n",
              "            0,     0,     0,     0,     0,     0,     0,     0,     0,\n",
              "            0,     0,     0,     0,     0,     0,     0,     0,     0,\n",
              "            0,     0,     0,     0,     0,     0,     0,     0,     0,\n",
              "            0,     0,     0,     0,     0,     0,     0,     0,     0,\n",
              "            0,     0,     0,     0,     0,     0,     0,     0,     0,\n",
              "            0,     0,     0,     0,     0,     0,     0,     0,     0,\n",
              "            0,     0,     0,     0,     0,     0,     0,     0,     0,\n",
              "            0,     0,     0,     0,     0,     0,     0,     0,     0,\n",
              "            0,     0,     0,     0,     0,     0,     0,     0,     0,\n",
              "            0,     0,     0,     0,     0,     0,     0,     0,     0,\n",
              "            0,     0,     0,     0,     0,     0,     0,     0,     0,\n",
              "            0,     0,     0,     0,     0,     0,     0,     0,     0,\n",
              "            0,     0,     0,     0,     0,     0,     0,     0,     0,\n",
              "            0,     0,     0,     0,     0,     0]], dtype=int32)>"
            ]
          },
          "metadata": {
            "tags": []
          },
          "execution_count": 31
        }
      ]
    },
    {
      "cell_type": "code",
      "metadata": {
        "id": "xffiRkBh1I1p",
        "colab": {
          "base_uri": "https://localhost:8080/",
          "height": 336
        },
        "outputId": "959a3d86-4bf1-47ba-f58d-fa146d516fbc"
      },
      "source": [
        "my_input_dict[\"input_mask\"]"
      ],
      "execution_count": null,
      "outputs": [
        {
          "output_type": "execute_result",
          "data": {
            "text/plain": [
              "<tf.Tensor: shape=(1, 384), dtype=int32, numpy=\n",
              "array([[1, 1, 1, 1, 1, 1, 1, 1, 1, 1, 1, 1, 1, 1, 1, 1, 1, 1, 1, 1, 1, 1,\n",
              "        1, 1, 1, 1, 1, 1, 1, 1, 1, 1, 1, 1, 1, 1, 1, 1, 1, 1, 1, 1, 1, 1,\n",
              "        1, 1, 1, 1, 1, 1, 1, 1, 1, 1, 1, 1, 1, 1, 1, 1, 1, 1, 1, 1, 1, 1,\n",
              "        1, 1, 1, 1, 1, 1, 1, 1, 1, 1, 1, 1, 1, 1, 1, 1, 1, 1, 1, 1, 1, 1,\n",
              "        1, 1, 1, 1, 1, 1, 1, 1, 1, 1, 1, 1, 1, 1, 1, 1, 1, 1, 1, 0, 0, 0,\n",
              "        0, 0, 0, 0, 0, 0, 0, 0, 0, 0, 0, 0, 0, 0, 0, 0, 0, 0, 0, 0, 0, 0,\n",
              "        0, 0, 0, 0, 0, 0, 0, 0, 0, 0, 0, 0, 0, 0, 0, 0, 0, 0, 0, 0, 0, 0,\n",
              "        0, 0, 0, 0, 0, 0, 0, 0, 0, 0, 0, 0, 0, 0, 0, 0, 0, 0, 0, 0, 0, 0,\n",
              "        0, 0, 0, 0, 0, 0, 0, 0, 0, 0, 0, 0, 0, 0, 0, 0, 0, 0, 0, 0, 0, 0,\n",
              "        0, 0, 0, 0, 0, 0, 0, 0, 0, 0, 0, 0, 0, 0, 0, 0, 0, 0, 0, 0, 0, 0,\n",
              "        0, 0, 0, 0, 0, 0, 0, 0, 0, 0, 0, 0, 0, 0, 0, 0, 0, 0, 0, 0, 0, 0,\n",
              "        0, 0, 0, 0, 0, 0, 0, 0, 0, 0, 0, 0, 0, 0, 0, 0, 0, 0, 0, 0, 0, 0,\n",
              "        0, 0, 0, 0, 0, 0, 0, 0, 0, 0, 0, 0, 0, 0, 0, 0, 0, 0, 0, 0, 0, 0,\n",
              "        0, 0, 0, 0, 0, 0, 0, 0, 0, 0, 0, 0, 0, 0, 0, 0, 0, 0, 0, 0, 0, 0,\n",
              "        0, 0, 0, 0, 0, 0, 0, 0, 0, 0, 0, 0, 0, 0, 0, 0, 0, 0, 0, 0, 0, 0,\n",
              "        0, 0, 0, 0, 0, 0, 0, 0, 0, 0, 0, 0, 0, 0, 0, 0, 0, 0, 0, 0, 0, 0,\n",
              "        0, 0, 0, 0, 0, 0, 0, 0, 0, 0, 0, 0, 0, 0, 0, 0, 0, 0, 0, 0, 0, 0,\n",
              "        0, 0, 0, 0, 0, 0, 0, 0, 0, 0]], dtype=int32)>"
            ]
          },
          "metadata": {
            "tags": []
          },
          "execution_count": 69
        }
      ]
    },
    {
      "cell_type": "code",
      "metadata": {
        "id": "qrTZ1o5C1Rya",
        "colab": {
          "base_uri": "https://localhost:8080/",
          "height": 336
        },
        "outputId": "8799e8a8-0591-41c5-94b7-aa9e97196256"
      },
      "source": [
        "my_input_dict[\"input_type_ids\"]"
      ],
      "execution_count": null,
      "outputs": [
        {
          "output_type": "execute_result",
          "data": {
            "text/plain": [
              "<tf.Tensor: shape=(1, 384), dtype=int32, numpy=\n",
              "array([[0, 0, 0, 0, 0, 0, 0, 0, 1, 1, 1, 1, 1, 1, 1, 1, 1, 1, 1, 1, 1, 1,\n",
              "        1, 1, 1, 1, 1, 1, 1, 1, 1, 1, 1, 1, 1, 1, 1, 1, 1, 1, 1, 1, 1, 1,\n",
              "        1, 1, 1, 1, 1, 1, 1, 1, 1, 1, 1, 1, 1, 1, 1, 1, 1, 1, 1, 1, 1, 1,\n",
              "        1, 1, 1, 1, 1, 1, 1, 1, 1, 1, 1, 1, 1, 1, 1, 1, 1, 1, 1, 1, 1, 1,\n",
              "        1, 1, 1, 1, 1, 1, 1, 1, 1, 1, 1, 1, 1, 1, 1, 1, 1, 1, 1, 0, 0, 0,\n",
              "        0, 0, 0, 0, 0, 0, 0, 0, 0, 0, 0, 0, 0, 0, 0, 0, 0, 0, 0, 0, 0, 0,\n",
              "        0, 0, 0, 0, 0, 0, 0, 0, 0, 0, 0, 0, 0, 0, 0, 0, 0, 0, 0, 0, 0, 0,\n",
              "        0, 0, 0, 0, 0, 0, 0, 0, 0, 0, 0, 0, 0, 0, 0, 0, 0, 0, 0, 0, 0, 0,\n",
              "        0, 0, 0, 0, 0, 0, 0, 0, 0, 0, 0, 0, 0, 0, 0, 0, 0, 0, 0, 0, 0, 0,\n",
              "        0, 0, 0, 0, 0, 0, 0, 0, 0, 0, 0, 0, 0, 0, 0, 0, 0, 0, 0, 0, 0, 0,\n",
              "        0, 0, 0, 0, 0, 0, 0, 0, 0, 0, 0, 0, 0, 0, 0, 0, 0, 0, 0, 0, 0, 0,\n",
              "        0, 0, 0, 0, 0, 0, 0, 0, 0, 0, 0, 0, 0, 0, 0, 0, 0, 0, 0, 0, 0, 0,\n",
              "        0, 0, 0, 0, 0, 0, 0, 0, 0, 0, 0, 0, 0, 0, 0, 0, 0, 0, 0, 0, 0, 0,\n",
              "        0, 0, 0, 0, 0, 0, 0, 0, 0, 0, 0, 0, 0, 0, 0, 0, 0, 0, 0, 0, 0, 0,\n",
              "        0, 0, 0, 0, 0, 0, 0, 0, 0, 0, 0, 0, 0, 0, 0, 0, 0, 0, 0, 0, 0, 0,\n",
              "        0, 0, 0, 0, 0, 0, 0, 0, 0, 0, 0, 0, 0, 0, 0, 0, 0, 0, 0, 0, 0, 0,\n",
              "        0, 0, 0, 0, 0, 0, 0, 0, 0, 0, 0, 0, 0, 0, 0, 0, 0, 0, 0, 0, 0, 0,\n",
              "        0, 0, 0, 0, 0, 0, 0, 0, 0, 0]], dtype=int32)>"
            ]
          },
          "metadata": {
            "tags": []
          },
          "execution_count": 70
        }
      ]
    },
    {
      "cell_type": "code",
      "metadata": {
        "id": "plsFEJSx1mCK",
        "colab": {
          "base_uri": "https://localhost:8080/",
          "height": 54
        },
        "outputId": "c326711d-b0d8-4d6e-e8cd-83d76b1bc235"
      },
      "source": [
        "print(my_context_words)"
      ],
      "execution_count": null,
      "outputs": [
        {
          "output_type": "stream",
          "text": [
            "['Neoclassical', 'economics', 'views', 'inequalities', 'in', 'the', 'distribution', 'of', 'income', 'as', 'arising', 'from', 'differences', 'in', 'value', 'added', 'by', 'labor,', 'capital', 'and', 'land.', 'Within', 'labor', 'income', 'distribution', 'is', 'due', 'to', 'differences', 'in', 'value', 'added', 'by', 'different', 'classifications', 'of', 'workers.', 'In', 'this', 'perspective,', 'wages', 'and', 'profits', 'are', 'determined', 'by', 'the', 'marginal', 'value', 'added', 'of', 'each', 'economic', 'actor', '(worker,', 'capitalist/business', 'owner,', 'landlord).', 'Thus,', 'in', 'a', 'market', 'economy,', 'inequality', 'is', 'a', 'reflection', 'of', 'the', 'productivity', 'gap', 'between', 'highly-paid', 'professions', 'and', 'lower-paid', 'professions.']\n"
          ],
          "name": "stdout"
        }
      ]
    },
    {
      "cell_type": "code",
      "metadata": {
        "id": "a33Y5l1f1sW4",
        "colab": {
          "base_uri": "https://localhost:8080/",
          "height": 54
        },
        "outputId": "ce7012b1-dbf5-4e05-dad5-803965ed3754"
      },
      "source": [
        "print(context_tok_to_word_id)"
      ],
      "execution_count": null,
      "outputs": [
        {
          "output_type": "stream",
          "text": [
            "[0, 1, 2, 3, 3, 3, 3, 4, 5, 6, 7, 8, 9, 10, 11, 12, 13, 14, 15, 16, 17, 17, 18, 19, 20, 20, 21, 22, 23, 24, 25, 26, 27, 28, 29, 30, 31, 32, 33, 34, 35, 36, 36, 37, 38, 39, 39, 40, 41, 42, 43, 44, 45, 46, 47, 48, 49, 50, 51, 52, 53, 54, 54, 54, 55, 55, 55, 56, 56, 57, 57, 57, 58, 58, 59, 60, 61, 62, 62, 63, 64, 65, 66, 67, 68, 69, 70, 71, 72, 72, 72, 73, 74, 75, 75, 75, 76, 76]\n"
          ],
          "name": "stdout"
        }
      ]
    },
    {
      "cell_type": "code",
      "metadata": {
        "id": "_-F8RIhd1yD-",
        "colab": {
          "base_uri": "https://localhost:8080/",
          "height": 34
        },
        "outputId": "07a4c286-010b-4d0e-ccc6-436d5d0e489f"
      },
      "source": [
        "question_tok_len"
      ],
      "execution_count": null,
      "outputs": [
        {
          "output_type": "execute_result",
          "data": {
            "text/plain": [
              "7"
            ]
          },
          "metadata": {
            "tags": []
          },
          "execution_count": 74
        }
      ]
    },
    {
      "cell_type": "markdown",
      "metadata": {
        "id": "SWu4skOu2EQH"
      },
      "source": [
        "### Previsões"
      ]
    },
    {
      "cell_type": "code",
      "metadata": {
        "id": "MYBmto3u2GOD"
      },
      "source": [
        "start_logits, end_logits = bert_squad(my_input_dict, training = False)"
      ],
      "execution_count": null,
      "outputs": []
    },
    {
      "cell_type": "code",
      "metadata": {
        "id": "15UEUa2h4sfH",
        "colab": {
          "base_uri": "https://localhost:8080/",
          "height": 1000
        },
        "outputId": "109cc3f5-fa3c-4b40-9321-75e2d7b213fc"
      },
      "source": [
        "start_logits[0]"
      ],
      "execution_count": null,
      "outputs": [
        {
          "output_type": "execute_result",
          "data": {
            "text/plain": [
              "<tf.Tensor: shape=(384,), dtype=float32, numpy=\n",
              "array([-6.1141114, -5.94246  , -6.3286915, -6.2150784, -5.1629057,\n",
              "       -6.5666614, -6.524823 , -6.047181 , -3.0152621, -5.442794 ,\n",
              "       -5.2678294, -3.7595422, -5.82138  , -5.8799143, -6.3127155,\n",
              "       -5.7444506, -5.602176 , -5.420313 , -6.1502676, -5.844705 ,\n",
              "       -5.815895 , -5.468899 , -5.5814114, -3.8503177, -6.3701677,\n",
              "       -5.819021 , -6.513452 , -6.0749454, -3.1359966, -6.352033 ,\n",
              "       -5.82494  , -6.5621686, -6.1847935, -5.685253 , -3.5545986,\n",
              "       -2.259898 , -5.3562   , -6.234395 , -6.279558 , -5.474968 ,\n",
              "       -5.883649 , -3.6245663, -6.2983747, -5.22129  , -6.5412545,\n",
              "       -5.622674 , -3.0834582, -4.1872306, -6.0717278, -4.2317224,\n",
              "       -5.4931755, -5.1407843, -5.433543 , -5.426195 , -4.3503265,\n",
              "       -1.2661135, -5.970591 , -5.678217 , -5.953099 , -5.90874  ,\n",
              "       -5.8279862, -5.117585 , -1.792199 , -5.690749 , -6.270339 ,\n",
              "       -6.1369176, -3.3721244, -3.6687026, -4.781014 , -2.3619018,\n",
              "        3.1457474, -5.037569 , -3.4424314, -5.3498964, -5.504025 ,\n",
              "       -4.6517553, -5.51655  , -3.3634362, -3.4924552, -5.4695644,\n",
              "       -5.56817  , -6.1929235, -4.549271 , -2.9135325, -3.5327506,\n",
              "       -5.1263857, -5.8001356, -5.1386604, -5.87847  , -5.714184 ,\n",
              "       -5.89834  , -6.0231075, -4.7234592, -4.864768 , -6.396347 ,\n",
              "       -5.8802414, -3.0676072, -5.989793 , -5.922551 , -5.460988 ,\n",
              "       -6.1735168, -5.3374386, -6.3392563, -6.283383 , -5.803797 ,\n",
              "       -5.4967375, -6.006869 , -6.6277943, -6.664391 , -6.7010055,\n",
              "       -6.6949806, -6.698637 , -6.7047005, -6.718157 , -6.7224197,\n",
              "       -6.719734 , -6.7059793, -6.673959 , -6.6705008, -6.670393 ,\n",
              "       -6.6754727, -6.6773677, -6.6836104, -6.6971483, -6.7015705,\n",
              "       -6.707746 , -6.708369 , -6.703316 , -6.713485 , -6.718731 ,\n",
              "       -6.745091 , -6.723838 , -6.722584 , -6.7113113, -6.72167  ,\n",
              "       -6.706683 , -6.6729803, -6.697371 , -6.7058916, -6.70796  ,\n",
              "       -6.7291145, -6.727954 , -6.7279444, -6.734972 , -6.733835 ,\n",
              "       -6.738064 , -6.7388926, -6.730489 , -6.724662 , -6.6998987,\n",
              "       -6.6937475, -6.6895437, -6.671872 , -6.6703377, -6.651815 ,\n",
              "       -6.6902986, -6.700375 , -6.703758 , -6.716814 , -6.7170496,\n",
              "       -6.7181854, -6.727399 , -6.724809 , -6.7237034, -6.716921 ,\n",
              "       -6.7269173, -6.721431 , -6.7307343, -6.7307386, -6.727664 ,\n",
              "       -6.7392073, -6.739555 , -6.7231426, -6.7358856, -6.745941 ,\n",
              "       -6.7371154, -6.745031 , -6.751644 , -6.7413764, -6.7258635,\n",
              "       -6.7288966, -6.7096996, -6.6751385, -6.663999 , -6.6767855,\n",
              "       -6.6941395, -6.6984773, -6.6894245, -6.6957903, -6.6957083,\n",
              "       -6.7202578, -6.7288356, -6.7241473, -6.727335 , -6.7427826,\n",
              "       -6.743965 , -6.7416797, -6.738104 , -6.734785 , -6.728875 ,\n",
              "       -6.720901 , -6.7162094, -6.713043 , -6.706715 , -6.7120523,\n",
              "       -6.702546 , -6.7031198, -6.72249  , -6.7177477, -6.703095 ,\n",
              "       -6.72564  , -6.73029  , -6.736045 , -6.735167 , -6.720043 ,\n",
              "       -6.69088  , -6.6922293, -6.689638 , -6.689503 , -6.697238 ,\n",
              "       -6.7009273, -6.7226515, -6.7263055, -6.726022 , -6.7245693,\n",
              "       -6.7318907, -6.7257137, -6.7191668, -6.713846 , -6.7045546,\n",
              "       -6.7123404, -6.7055492, -6.708295 , -6.7084885, -6.703353 ,\n",
              "       -6.7111416, -6.7273026, -6.7318897, -6.7348776, -6.7417145,\n",
              "       -6.749052 , -6.753563 , -6.7580094, -6.7500205, -6.746232 ,\n",
              "       -6.7489386, -6.7384577, -6.7367964, -6.739771 , -6.72182  ,\n",
              "       -6.7362714, -6.7383986, -6.727722 , -6.737802 , -6.753925 ,\n",
              "       -6.7523217, -6.7401104, -6.7255177, -6.7212095, -6.723633 ,\n",
              "       -6.7256527, -6.715466 , -6.710278 , -6.7161326, -6.72972  ,\n",
              "       -6.7226853, -6.729791 , -6.739732 , -6.7387094, -6.7495937,\n",
              "       -6.7500477, -6.7589064, -6.746895 , -6.7404127, -6.737503 ,\n",
              "       -6.73305  , -6.7352304, -6.7264795, -6.724369 , -6.727434 ,\n",
              "       -6.724167 , -6.705096 , -6.7183914, -6.732698 , -6.728954 ,\n",
              "       -6.711462 , -6.725916 , -6.7354307, -6.746237 , -6.763051 ,\n",
              "       -6.7578573, -6.753089 , -6.7514105, -6.736458 , -6.720658 ,\n",
              "       -6.721145 , -6.7059984, -6.7086625, -6.6897926, -6.6888933,\n",
              "       -6.694216 , -6.7060113, -6.7107754, -6.7207212, -6.7175655,\n",
              "       -6.718896 , -6.738046 , -6.7342005, -6.748596 , -6.7491612,\n",
              "       -6.75229  , -6.7527056, -6.740336 , -6.7511992, -6.7392673,\n",
              "       -6.744848 , -6.738854 , -6.724508 , -6.6780357, -6.689066 ,\n",
              "       -6.6795473, -6.7029715, -6.7211018, -6.729028 , -6.73389  ,\n",
              "       -6.7325883, -6.743221 , -6.7455993, -6.7513967, -6.7383122,\n",
              "       -6.7293744, -6.738097 , -6.7294083, -6.724955 , -6.7186766,\n",
              "       -6.702486 , -6.6837463, -6.7140207, -6.7078977, -6.6741962,\n",
              "       -6.674465 , -6.721596 , -6.7315106, -6.7566147, -6.758207 ,\n",
              "       -6.7445745, -6.7409453, -6.7198095, -6.7140117, -6.7093754,\n",
              "       -6.6988106, -6.6853347, -6.6868005, -6.669978 , -6.696195 ,\n",
              "       -6.709203 , -6.7179594, -6.7097015, -6.719314 , -6.7200613,\n",
              "       -6.7204666, -6.7273016, -6.7270603, -6.7420154, -6.731247 ,\n",
              "       -6.730493 , -6.7461987, -6.7452326, -6.7529173, -6.742387 ,\n",
              "       -6.723742 , -6.7317247, -6.736353 , -6.739478 , -6.7355533,\n",
              "       -6.7359986, -6.7109394, -6.7142262, -6.7155657, -6.7138867,\n",
              "       -6.7089567, -6.7113504, -6.72649  , -6.7332973], dtype=float32)>"
            ]
          },
          "metadata": {
            "tags": []
          },
          "execution_count": 36
        }
      ]
    },
    {
      "cell_type": "code",
      "metadata": {
        "id": "bGJbnfig5oOw",
        "colab": {
          "base_uri": "https://localhost:8080/",
          "height": 34
        },
        "outputId": "ab1747ab-5af8-4440-b387-3afa0977fbc8"
      },
      "source": [
        "question_tok_len"
      ],
      "execution_count": null,
      "outputs": [
        {
          "output_type": "execute_result",
          "data": {
            "text/plain": [
              "7"
            ]
          },
          "metadata": {
            "tags": []
          },
          "execution_count": 37
        }
      ]
    },
    {
      "cell_type": "code",
      "metadata": {
        "id": "UqonmAqk5XjA"
      },
      "source": [
        "start_logits_context = start_logits.numpy()[0, question_tok_len + 1:]"
      ],
      "execution_count": null,
      "outputs": []
    },
    {
      "cell_type": "code",
      "metadata": {
        "id": "gcmaKuWR5zTS",
        "colab": {
          "base_uri": "https://localhost:8080/",
          "height": 1000
        },
        "outputId": "8aee807d-dec0-417c-8b2c-5c170d55637a"
      },
      "source": [
        "start_logits_context"
      ],
      "execution_count": null,
      "outputs": [
        {
          "output_type": "execute_result",
          "data": {
            "text/plain": [
              "array([-3.0152621, -5.442794 , -5.2678294, -3.7595422, -5.82138  ,\n",
              "       -5.8799143, -6.3127155, -5.7444506, -5.602176 , -5.420313 ,\n",
              "       -6.1502676, -5.844705 , -5.815895 , -5.468899 , -5.5814114,\n",
              "       -3.8503177, -6.3701677, -5.819021 , -6.513452 , -6.0749454,\n",
              "       -3.1359966, -6.352033 , -5.82494  , -6.5621686, -6.1847935,\n",
              "       -5.685253 , -3.5545986, -2.259898 , -5.3562   , -6.234395 ,\n",
              "       -6.279558 , -5.474968 , -5.883649 , -3.6245663, -6.2983747,\n",
              "       -5.22129  , -6.5412545, -5.622674 , -3.0834582, -4.1872306,\n",
              "       -6.0717278, -4.2317224, -5.4931755, -5.1407843, -5.433543 ,\n",
              "       -5.426195 , -4.3503265, -1.2661135, -5.970591 , -5.678217 ,\n",
              "       -5.953099 , -5.90874  , -5.8279862, -5.117585 , -1.792199 ,\n",
              "       -5.690749 , -6.270339 , -6.1369176, -3.3721244, -3.6687026,\n",
              "       -4.781014 , -2.3619018,  3.1457474, -5.037569 , -3.4424314,\n",
              "       -5.3498964, -5.504025 , -4.6517553, -5.51655  , -3.3634362,\n",
              "       -3.4924552, -5.4695644, -5.56817  , -6.1929235, -4.549271 ,\n",
              "       -2.9135325, -3.5327506, -5.1263857, -5.8001356, -5.1386604,\n",
              "       -5.87847  , -5.714184 , -5.89834  , -6.0231075, -4.7234592,\n",
              "       -4.864768 , -6.396347 , -5.8802414, -3.0676072, -5.989793 ,\n",
              "       -5.922551 , -5.460988 , -6.1735168, -5.3374386, -6.3392563,\n",
              "       -6.283383 , -5.803797 , -5.4967375, -6.006869 , -6.6277943,\n",
              "       -6.664391 , -6.7010055, -6.6949806, -6.698637 , -6.7047005,\n",
              "       -6.718157 , -6.7224197, -6.719734 , -6.7059793, -6.673959 ,\n",
              "       -6.6705008, -6.670393 , -6.6754727, -6.6773677, -6.6836104,\n",
              "       -6.6971483, -6.7015705, -6.707746 , -6.708369 , -6.703316 ,\n",
              "       -6.713485 , -6.718731 , -6.745091 , -6.723838 , -6.722584 ,\n",
              "       -6.7113113, -6.72167  , -6.706683 , -6.6729803, -6.697371 ,\n",
              "       -6.7058916, -6.70796  , -6.7291145, -6.727954 , -6.7279444,\n",
              "       -6.734972 , -6.733835 , -6.738064 , -6.7388926, -6.730489 ,\n",
              "       -6.724662 , -6.6998987, -6.6937475, -6.6895437, -6.671872 ,\n",
              "       -6.6703377, -6.651815 , -6.6902986, -6.700375 , -6.703758 ,\n",
              "       -6.716814 , -6.7170496, -6.7181854, -6.727399 , -6.724809 ,\n",
              "       -6.7237034, -6.716921 , -6.7269173, -6.721431 , -6.7307343,\n",
              "       -6.7307386, -6.727664 , -6.7392073, -6.739555 , -6.7231426,\n",
              "       -6.7358856, -6.745941 , -6.7371154, -6.745031 , -6.751644 ,\n",
              "       -6.7413764, -6.7258635, -6.7288966, -6.7096996, -6.6751385,\n",
              "       -6.663999 , -6.6767855, -6.6941395, -6.6984773, -6.6894245,\n",
              "       -6.6957903, -6.6957083, -6.7202578, -6.7288356, -6.7241473,\n",
              "       -6.727335 , -6.7427826, -6.743965 , -6.7416797, -6.738104 ,\n",
              "       -6.734785 , -6.728875 , -6.720901 , -6.7162094, -6.713043 ,\n",
              "       -6.706715 , -6.7120523, -6.702546 , -6.7031198, -6.72249  ,\n",
              "       -6.7177477, -6.703095 , -6.72564  , -6.73029  , -6.736045 ,\n",
              "       -6.735167 , -6.720043 , -6.69088  , -6.6922293, -6.689638 ,\n",
              "       -6.689503 , -6.697238 , -6.7009273, -6.7226515, -6.7263055,\n",
              "       -6.726022 , -6.7245693, -6.7318907, -6.7257137, -6.7191668,\n",
              "       -6.713846 , -6.7045546, -6.7123404, -6.7055492, -6.708295 ,\n",
              "       -6.7084885, -6.703353 , -6.7111416, -6.7273026, -6.7318897,\n",
              "       -6.7348776, -6.7417145, -6.749052 , -6.753563 , -6.7580094,\n",
              "       -6.7500205, -6.746232 , -6.7489386, -6.7384577, -6.7367964,\n",
              "       -6.739771 , -6.72182  , -6.7362714, -6.7383986, -6.727722 ,\n",
              "       -6.737802 , -6.753925 , -6.7523217, -6.7401104, -6.7255177,\n",
              "       -6.7212095, -6.723633 , -6.7256527, -6.715466 , -6.710278 ,\n",
              "       -6.7161326, -6.72972  , -6.7226853, -6.729791 , -6.739732 ,\n",
              "       -6.7387094, -6.7495937, -6.7500477, -6.7589064, -6.746895 ,\n",
              "       -6.7404127, -6.737503 , -6.73305  , -6.7352304, -6.7264795,\n",
              "       -6.724369 , -6.727434 , -6.724167 , -6.705096 , -6.7183914,\n",
              "       -6.732698 , -6.728954 , -6.711462 , -6.725916 , -6.7354307,\n",
              "       -6.746237 , -6.763051 , -6.7578573, -6.753089 , -6.7514105,\n",
              "       -6.736458 , -6.720658 , -6.721145 , -6.7059984, -6.7086625,\n",
              "       -6.6897926, -6.6888933, -6.694216 , -6.7060113, -6.7107754,\n",
              "       -6.7207212, -6.7175655, -6.718896 , -6.738046 , -6.7342005,\n",
              "       -6.748596 , -6.7491612, -6.75229  , -6.7527056, -6.740336 ,\n",
              "       -6.7511992, -6.7392673, -6.744848 , -6.738854 , -6.724508 ,\n",
              "       -6.6780357, -6.689066 , -6.6795473, -6.7029715, -6.7211018,\n",
              "       -6.729028 , -6.73389  , -6.7325883, -6.743221 , -6.7455993,\n",
              "       -6.7513967, -6.7383122, -6.7293744, -6.738097 , -6.7294083,\n",
              "       -6.724955 , -6.7186766, -6.702486 , -6.6837463, -6.7140207,\n",
              "       -6.7078977, -6.6741962, -6.674465 , -6.721596 , -6.7315106,\n",
              "       -6.7566147, -6.758207 , -6.7445745, -6.7409453, -6.7198095,\n",
              "       -6.7140117, -6.7093754, -6.6988106, -6.6853347, -6.6868005,\n",
              "       -6.669978 , -6.696195 , -6.709203 , -6.7179594, -6.7097015,\n",
              "       -6.719314 , -6.7200613, -6.7204666, -6.7273016, -6.7270603,\n",
              "       -6.7420154, -6.731247 , -6.730493 , -6.7461987, -6.7452326,\n",
              "       -6.7529173, -6.742387 , -6.723742 , -6.7317247, -6.736353 ,\n",
              "       -6.739478 , -6.7355533, -6.7359986, -6.7109394, -6.7142262,\n",
              "       -6.7155657, -6.7138867, -6.7089567, -6.7113504, -6.72649  ,\n",
              "       -6.7332973], dtype=float32)"
            ]
          },
          "metadata": {
            "tags": []
          },
          "execution_count": 39
        }
      ]
    },
    {
      "cell_type": "code",
      "metadata": {
        "id": "pXNF-C5b6Emw"
      },
      "source": [
        "end_logits_context = end_logits.numpy()[0, question_tok_len + 1:]"
      ],
      "execution_count": null,
      "outputs": []
    },
    {
      "cell_type": "code",
      "metadata": {
        "id": "KYtZuzOd6dA9",
        "colab": {
          "base_uri": "https://localhost:8080/",
          "height": 54
        },
        "outputId": "c4341ca2-dbc0-42a7-ce9d-9251fa291ed0"
      },
      "source": [
        "print(context_tok_to_word_id)"
      ],
      "execution_count": null,
      "outputs": [
        {
          "output_type": "stream",
          "text": [
            "[0, 1, 2, 3, 3, 3, 3, 4, 5, 6, 7, 8, 9, 10, 11, 12, 13, 14, 15, 16, 17, 17, 18, 19, 20, 20, 21, 22, 23, 24, 25, 26, 27, 28, 29, 30, 31, 32, 33, 34, 35, 36, 36, 37, 38, 39, 39, 40, 41, 42, 43, 44, 45, 46, 47, 48, 49, 50, 51, 52, 53, 54, 54, 54, 55, 55, 55, 56, 56, 57, 57, 57, 58, 58, 59, 60, 61, 62, 62, 63, 64, 65, 66, 67, 68, 69, 70, 71, 72, 72, 72, 73, 74, 75, 75, 75, 76, 76]\n"
          ],
          "name": "stdout"
        }
      ]
    },
    {
      "cell_type": "code",
      "metadata": {
        "id": "KEbgb9AX6NmY",
        "colab": {
          "base_uri": "https://localhost:8080/",
          "height": 34
        },
        "outputId": "1572187a-73cb-4b3d-cbc7-bbc418d77ba5"
      },
      "source": [
        "start_word_id = context_tok_to_word_id[np.argmax(start_logits_context)]\n",
        "start_word_id"
      ],
      "execution_count": null,
      "outputs": [
        {
          "output_type": "execute_result",
          "data": {
            "text/plain": [
              "54"
            ]
          },
          "metadata": {
            "tags": []
          },
          "execution_count": 44
        }
      ]
    },
    {
      "cell_type": "code",
      "metadata": {
        "id": "wl5MhPkx7Bw1",
        "colab": {
          "base_uri": "https://localhost:8080/",
          "height": 34
        },
        "outputId": "d3dea6bd-df9e-4b7f-abd3-225069e2407f"
      },
      "source": [
        "end_word_id = context_tok_to_word_id[np.argmax(end_logits_context)]\n",
        "end_word_id"
      ],
      "execution_count": null,
      "outputs": [
        {
          "output_type": "execute_result",
          "data": {
            "text/plain": [
              "57"
            ]
          },
          "metadata": {
            "tags": []
          },
          "execution_count": 45
        }
      ]
    },
    {
      "cell_type": "markdown",
      "metadata": {
        "id": "hOwvsoMWbsaz"
      },
      "source": [
        "### Resposta final"
      ]
    },
    {
      "cell_type": "code",
      "metadata": {
        "id": "uRIS0202AEza",
        "colab": {
          "base_uri": "https://localhost:8080/",
          "height": 84
        },
        "outputId": "02795ffd-e369-4175-812e-05e8717c6074"
      },
      "source": [
        "predicted_answer = ' '.join(my_context_words[start_word_id:end_word_id + 1])\n",
        "print(\"The answer to:\\n\" + my_question + \"\\nis:\\n\" + predicted_answer)"
      ],
      "execution_count": null,
      "outputs": [
        {
          "output_type": "stream",
          "text": [
            "The answer to:\n",
            "What are examples of economic actors?\n",
            "is:\n",
            "(worker, capitalist/business owner, landlord).\n"
          ],
          "name": "stdout"
        }
      ]
    },
    {
      "cell_type": "code",
      "metadata": {
        "id": "M8Gt2_lDAf1w",
        "colab": {
          "base_uri": "https://localhost:8080/",
          "height": 155
        },
        "outputId": "76d59efc-9834-4d96-cf73-e9539cb1abd9"
      },
      "source": [
        "from IPython.core.display import HTML\n",
        "display(HTML(f'<h2>{my_question.upper()}</h2>'))\n",
        "marked_text = str(my_context.replace(predicted_answer, f\"<mark>{predicted_answer}</mark>\"))\n",
        "#print(marked_text)\n",
        "display(HTML(f\"\"\"<blockquote> {marked_text} </blockquote>\"\"\"))"
      ],
      "execution_count": null,
      "outputs": [
        {
          "output_type": "display_data",
          "data": {
            "text/html": [
              "<h2>WHAT ARE EXAMPLES OF ECONOMIC ACTORS?</h2>"
            ],
            "text/plain": [
              "<IPython.core.display.HTML object>"
            ]
          },
          "metadata": {
            "tags": []
          }
        },
        {
          "output_type": "display_data",
          "data": {
            "text/html": [
              "<blockquote> Neoclassical economics views inequalities in the distribution of income as arising from differences in value added by labor, capital and land. Within labor income distribution is due to differences in value added by different classifications of workers. In this perspective, wages and profits are determined by the marginal value added of each economic actor <mark>(worker, capitalist/business owner, landlord).</mark> Thus, in a market economy, inequality is a reflection of the productivity gap between highly-paid professions and lower-paid professions. </blockquote>"
            ],
            "text/plain": [
              "<IPython.core.display.HTML object>"
            ]
          },
          "metadata": {
            "tags": []
          }
        }
      ]
    }
  ]
}