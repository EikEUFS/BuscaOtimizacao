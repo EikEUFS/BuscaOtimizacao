{
  "nbformat": 4,
  "nbformat_minor": 0,
  "metadata": {
    "colab": {
      "name": "BO-Atividade 01.ipynb",
      "provenance": [],
      "collapsed_sections": [],
      "authorship_tag": "ABX9TyPBb+9RoLjqh55Tsz72XiJH",
      "include_colab_link": true
    },
    "kernelspec": {
      "name": "python3",
      "display_name": "Python 3"
    }
  },
  "cells": [
    {
      "cell_type": "markdown",
      "metadata": {
        "id": "view-in-github",
        "colab_type": "text"
      },
      "source": [
        "<a href=\"https://colab.research.google.com/github/EikEUFS/Mestrado-BO-Atividade01/blob/master/BO_Atividade_01.ipynb\" target=\"_parent\"><img src=\"https://colab.research.google.com/assets/colab-badge.svg\" alt=\"Open In Colab\"/></a>"
      ]
    },
    {
      "cell_type": "code",
      "metadata": {
        "id": "oP6SiioNbb0u"
      },
      "source": [
        "import random\n",
        "import numpy as np\n",
        "import statistics"
      ],
      "execution_count": 1,
      "outputs": []
    },
    {
      "cell_type": "code",
      "metadata": {
        "id": "8k6RPP-LaU_M"
      },
      "source": [
        "n_solution = 100\n",
        "min_solution = -100\n",
        "max_solution = 100\n",
        "p = 0.02\n",
        "r = 10\n",
        "n = 50000\n",
        "bias = -450\n",
        "optimizer = [-65, -2, -21, 86, 65, -27, -91, 7, 86, 49, -58, 96, -77, 10, 86, -78, 48, 13, -28, 63, 95, -58, -96, \n",
        "            7, -21, -100, 42, 8, -67, 56, -99, 18, 34, -67, -46, -14, 78, -98, 34, 29, -47, 16, 62, 26, -20,-94,\n",
        "            -7, 87, -32, -7, 43, -36, -90, 95, 84, 60, 98, 0, 82, -21, 9, -84, 57, -61, 50, 84, 64, -82, -24, -85,\n",
        "            -80, 82, -63, -94, 19, -43, -100, -62, 3, -34, -83, 12, -68, -43, 95, -68, -8, 69, 89, -37, 64, -35,\n",
        "            -59, -83, -67, -93, 28, -76, -26, -65]"
      ],
      "execution_count": 2,
      "outputs": []
    },
    {
      "cell_type": "code",
      "metadata": {
        "id": "R5FBLsWcZ1lv"
      },
      "source": [
        "def create_random_vector(n_solution, min_solution, max_solution):\n",
        "  solution = []\n",
        "\n",
        "  for _ in range(n_solution):\n",
        "    value_random = random.uniform(min_solution, max_solution)\n",
        "    solution.append(value_random)\n",
        "  \n",
        "  return solution"
      ],
      "execution_count": 3,
      "outputs": []
    },
    {
      "cell_type": "code",
      "metadata": {
        "id": "GLqBxBfiaIsS"
      },
      "source": [
        "def shifted_sphere(solution, n_solution, optimizer, bias):\n",
        "  cost = 0\n",
        "\n",
        "  for i in range(n_solution):\n",
        "    value = solution[i] - optimizer[i]\n",
        "    cost += value * value\n",
        "    \n",
        "  return cost + bias"
      ],
      "execution_count": 4,
      "outputs": []
    },
    {
      "cell_type": "code",
      "metadata": {
        "id": "Slm97mTob5UF"
      },
      "source": [
        "def tweak_1(solution, n_solution, p, r, min_solution, max_solution):\n",
        "  new_solution = solution.copy()\n",
        "\n",
        "  for i in range(n_solution):\n",
        "    random_p = random.uniform(0, 1)\n",
        "    if (p >= random_p):\n",
        "      find = True\n",
        "      while (find):\n",
        "        random_r = random.uniform((-1 * r), r)\n",
        "        find = min_solution >= new_solution[i] + random_r and max_solution <= new_solution[i] + random_r\n",
        "      new_solution[i] -= random_r\n",
        "  \n",
        "  return new_solution "
      ],
      "execution_count": 5,
      "outputs": []
    },
    {
      "cell_type": "code",
      "metadata": {
        "id": "gNIAc5-neJgZ"
      },
      "source": [
        "def tweak_2(solution, n_solution, min_solution, max_solution):\n",
        "  new_solution = solution.copy()\n",
        "\n",
        "  index_random = random.randrange(len(new_solution) - 1)\n",
        "  value_random = random.uniform(min_solution, max_solution)\n",
        "\n",
        "  new_solution[index_random] = value_random\n",
        "\n",
        "  return new_solution"
      ],
      "execution_count": 6,
      "outputs": []
    },
    {
      "cell_type": "code",
      "metadata": {
        "id": "5zYPRkb7W2AO"
      },
      "source": [
        "def hill_climbing(optimizer, p, r, n, bias, n_solution, min_solution, max_solution):\n",
        "  costs = []\n",
        "\n",
        "  for _ in range(10):\n",
        "    best_solution = create_random_vector(n_solution, min_solution, max_solution)\n",
        "    best_cost = shifted_sphere(best_solution, n_solution, optimizer, bias)     \n",
        "\n",
        "    for _ in range(n):\n",
        "      candidate_solution = tweak_1(best_solution, n_solution, p, r, min_solution, max_solution)\n",
        "      #candidate_solution = tweak_2(best_solution, n_solution, min_solution, max_solution)\n",
        "      candidate_cost = shifted_sphere(candidate_solution, n_solution, optimizer, bias)\n",
        "\n",
        "      if (candidate_cost <= best_cost):\n",
        "        best_solution = candidate_solution.copy()\n",
        "        best_cost = candidate_cost\n",
        "\n",
        "    costs.append(best_cost)\n",
        "\n",
        "  return costs"
      ],
      "execution_count": 7,
      "outputs": []
    },
    {
      "cell_type": "code",
      "metadata": {
        "id": "V9jfgzwI3KxI"
      },
      "source": [
        "costs = hill_climbing(optimizer, p, r, n, bias, n_solution, min_solution, max_solution)"
      ],
      "execution_count": 8,
      "outputs": []
    },
    {
      "cell_type": "code",
      "metadata": {
        "id": "HB7sfhJYuClO",
        "outputId": "2f383f40-1447-4570-a45d-d579f70286de",
        "colab": {
          "base_uri": "https://localhost:8080/",
          "height": 68
        }
      },
      "source": [
        "np_costs = np.array(costs)\n",
        "print(np.mean(np_costs))\n",
        "print(np.median(np_costs))\n",
        "print(statistics.stdev(np_costs))"
      ],
      "execution_count": 9,
      "outputs": [
        {
          "output_type": "stream",
          "text": [
            "-448.95789455278737\n",
            "-448.94561251777213\n",
            "0.25137660732347905\n"
          ],
          "name": "stdout"
        }
      ]
    }
  ]
}