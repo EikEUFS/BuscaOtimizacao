{
  "nbformat": 4,
  "nbformat_minor": 0,
  "metadata": {
    "colab": {
      "name": "BO-Atividade 01.ipynb",
      "provenance": [],
      "collapsed_sections": [],
      "authorship_tag": "ABX9TyNSfd5a2TQxAOp/7ghXzwjJ",
      "include_colab_link": true
    },
    "kernelspec": {
      "name": "python3",
      "display_name": "Python 3"
    }
  },
  "cells": [
    {
      "cell_type": "markdown",
      "metadata": {
        "id": "view-in-github",
        "colab_type": "text"
      },
      "source": [
        "<a href=\"https://colab.research.google.com/github/EikEUFS/Mestrado-BO-Atividade01/blob/master/BO_Atividade_01.ipynb\" target=\"_parent\"><img src=\"https://colab.research.google.com/assets/colab-badge.svg\" alt=\"Open In Colab\"/></a>"
      ]
    },
    {
      "cell_type": "code",
      "metadata": {
        "id": "oP6SiioNbb0u"
      },
      "source": [
        "from random import randrange, sample, uniform\n",
        "from past.builtins import xrange\n",
        "\n",
        "def print_array(array):\n",
        "  length = len(array)\n",
        "  print('[', end=\"\")\n",
        "  for i in xrange(length):\n",
        "    print(array[i], end=\"\")\n",
        "    if (i != length - 1):\n",
        "      print(',', end=\"\")\n",
        "  print(']', end=\"\")"
      ],
      "execution_count": 1,
      "outputs": []
    },
    {
      "cell_type": "code",
      "metadata": {
        "id": "CCJC6D6z2Lud",
        "outputId": "42b77e7e-10a1-492f-b104-77c8bdedec0a",
        "colab": {
          "base_uri": "https://localhost:8080/",
          "height": 85
        }
      },
      "source": [
        "def tweak_1(S):\n",
        "  k = randrange(len(S) - 1)\n",
        "  S[k], S[k+1] = S[k+1], S[k]\n",
        "  return S\n",
        "\n",
        "def quality(P,O,RS):\n",
        "  c = 0\n",
        "  t = 0\n",
        "  for j in RS:\n",
        "    c += P[j]\n",
        "    t += max(c - O[j], 0)\n",
        "  return t \n",
        "\n",
        "def hill_climbing_1(P, O, n):\n",
        "  S = sample(xrange(len(P)),len(P))\n",
        "\n",
        "  for _ in xrange(n):\n",
        "    R = tweak_1(S[:])\n",
        "    if (quality(P,O,R) <= quality(P,O,S)):\n",
        "      S = R\n",
        "  return S\n",
        "\n",
        "if __name__ == '__main__':\n",
        "  P = [5,9,4,3]                     # Vetor\n",
        "  O = [6,9,13,15]                   # Otimizador\n",
        "  n = 1000                          # Repeticao\n",
        "\n",
        "  print('P = ', end=\"\")\n",
        "  print_array(P)\n",
        "  print()\n",
        "  print('O = ', end=\"\")\n",
        "  print_array(O)\n",
        "  print()\n",
        "  S = hill_climbing_1(P, O, n)\n",
        "  print('S = ', end=\"\")\n",
        "  print_array(S)\n",
        "  print()\n",
        "  print('Quality(S)= ', end=\"\")\n",
        "  print(quality(P, O, S))"
      ],
      "execution_count": 2,
      "outputs": [
        {
          "output_type": "stream",
          "text": [
            "P = [5,9,4,3]\n",
            "O = [6,9,13,15]\n",
            "S = [0,2,3,1]\n",
            "Quality(S)= 12\n"
          ],
          "name": "stdout"
        }
      ]
    },
    {
      "cell_type": "code",
      "metadata": {
        "id": "ttPX3BFx2QJ1",
        "outputId": "b7bf51e5-dd10-488a-a165-a1add0c80b69",
        "colab": {
          "base_uri": "https://localhost:8080/",
          "height": 85
        }
      },
      "source": [
        "def create_random_vector(n, min_P, max_P):\n",
        "  P = []\n",
        "  count = 0;\n",
        "\n",
        "  while (count < n):\n",
        "    value_random = uniform(min_P,max_P)\n",
        "    P.append(value_random)\n",
        "    count += 1\n",
        "  \n",
        "  return P\n",
        "\n",
        "def tweak_2(P, p, r, min_P, max_P):\n",
        "  count = 0;\n",
        "  length = len(P)\n",
        "  \n",
        "  while(count < length):\n",
        "    random_p = uniform(0,1)\n",
        "    if ( p >= random_p):\n",
        "      find = True;\n",
        "      while(find):\n",
        "        random_r = uniform(-r,r)\n",
        "        find = min_P >= P[count] + random_r and max_P <= P[count] + random_r\n",
        "      P[count] = P[count] + random_r\n",
        "    count += 1\n",
        "  \n",
        "  return P \n",
        "\n",
        "def shifted_sphere(P, O, RS, fbias = -450):\n",
        "  count = 0\n",
        "  sum = 0\n",
        "  length = len(P)\n",
        "\n",
        "  while(count < length):\n",
        "    sum += (P[count] - O[count]) * (P[count] - O[count])\n",
        "    count += 1\n",
        "    \n",
        "  return sum + fbias\n",
        "\n",
        "def hill_climbing_2(P, O, n, p, r, min_P, max_P, fbias):\n",
        "  S = sample(xrange(len(P)),len(P))\n",
        "\n",
        "  for _ in xrange(n):\n",
        "    R = tweak_2(P, p, r, min_P, max_P)\n",
        "    if (shifted_sphere(P, O, R, fbias) <= shifted_sphere(P, O, S, fbias)):\n",
        "      S = R\n",
        "  return S\n",
        "\n",
        "if __name__ == '__main__':\n",
        "  PR = create_random_vector(4,0,5)  # Vetor Random\n",
        "  OR = create_random_vector(4,0,5)  # Otimzador Random\n",
        "  n = 1000                          # Repeticao\n",
        "  p = 0.3                           # Probabilidade de adicionar no\n",
        "  r = 2                             # Ruido \n",
        "  min_P = 0                         # Valor Minimo do Vetor\n",
        "  max_P = 2                         # Valor Maximo do Vetor\n",
        "  fbias = -450\n",
        "\n",
        "  print('PR = ', end=\"\")\n",
        "  print_array(PR)\n",
        "  print()\n",
        "  print('OR = ', end=\"\")\n",
        "  print_array(OR)\n",
        "  print()\n",
        "  S = hill_climbing_2(PR, OR, n, p, r, min_P, max_P, fbias)  \n",
        "  print('S = ', end=\"\")\n",
        "  print_array(S)\n",
        "  print()\n",
        "  print('Shifted_Sphere(S)= ', end=\"\")\n",
        "  print(shifted_sphere(P, O, S, fbias))"
      ],
      "execution_count": 3,
      "outputs": [
        {
          "output_type": "stream",
          "text": [
            "PR = [4.139670131262893,0.16963139697963148,3.1974537052173386,1.256737080426222]\n",
            "OR = [1.460526889137364,2.68575504815922,2.16156742345571,4.935365973800056]\n",
            "S = [3.8071230457855987,-11.91725379563641,9.964123670590956,11.86558780811987]\n",
            "Shifted_Sphere(S)= -224\n"
          ],
          "name": "stdout"
        }
      ]
    }
  ]
}