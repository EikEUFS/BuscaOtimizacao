{
  "nbformat": 4,
  "nbformat_minor": 0,
  "metadata": {
    "colab": {
      "name": "BO-Atividade 01.ipynb",
      "provenance": [],
      "collapsed_sections": [],
      "authorship_tag": "ABX9TyNJ2bOVlBWprborGFDxKvIW",
      "include_colab_link": true
    },
    "kernelspec": {
      "name": "python3",
      "display_name": "Python 3"
    }
  },
  "cells": [
    {
      "cell_type": "markdown",
      "metadata": {
        "id": "view-in-github",
        "colab_type": "text"
      },
      "source": [
        "<a href=\"https://colab.research.google.com/github/EikEUFS/Mestrado-BO-Atividade01/blob/master/BO_Atividade_01.ipynb\" target=\"_parent\"><img src=\"https://colab.research.google.com/assets/colab-badge.svg\" alt=\"Open In Colab\"/></a>"
      ]
    },
    {
      "cell_type": "code",
      "metadata": {
        "id": "oP6SiioNbb0u"
      },
      "source": [
        "from random import randrange, sample, uniform\n",
        "from past.builtins import xrange\n",
        "import matplotlib.pyplot as plt\n",
        "import numpy as np\n",
        "\n",
        "def create_random_vector(n_X, min_X, max_X):\n",
        "  X = []\n",
        "  count = 0;\n",
        "\n",
        "  while (count < n_X):\n",
        "    value_random = uniform(min_X,max_X)\n",
        "    X.append(value_random)\n",
        "    count += 1\n",
        "  \n",
        "  return X"
      ],
      "execution_count": 1,
      "outputs": []
    },
    {
      "cell_type": "code",
      "metadata": {
        "id": "NDANp-m55hbH"
      },
      "source": [
        "O_F1 = [\n",
        "        -65, -2, -21, 86, 65, -27, -91, 7, 86, 49, -58, 96, -77, 10, 86, -78, 48, 13, -28, 63, 95, -58, -96, \n",
        "        7, -21, -100, 42, 8, -67, 56, -99, 18, 34, -67, -46, -14, 78, -98, 34, 29, -47, 16, 62, 26, -20,-94,\n",
        "        -7, 87, -32, -7, 43, -36, -90, 95, 84, 60, 98, 0, 82, -21, 9, -84, 57, -61, 50, 84, 64, -82, -24, -85,\n",
        "        -80, 82, -63, -94, 19, -43, -100, -62, 3, -34, -83, 12, -68, -43, 95, -68, -8, 69, 89, -37, 64, -35,\n",
        "        -59, -83, -67, -93, 28, -76, -26, -65\n",
        "        ]"
      ],
      "execution_count": 2,
      "outputs": []
    },
    {
      "cell_type": "code",
      "metadata": {
        "id": "ttPX3BFx2QJ1"
      },
      "source": [
        "def tweak_1(S, p, r, min_P, max_P):\n",
        "  count = 0;\n",
        "  length = len(S)\n",
        "  \n",
        "  while(count < length):\n",
        "    random_p = uniform(0,1)\n",
        "    if ( p >= random_p):\n",
        "      find = True;\n",
        "      while(find):\n",
        "        random_r = uniform(-r,r)\n",
        "        find = min_P >= S[count] + random_r and max_P <= S[count] + random_r\n",
        "      S[count] = S[count] + random_r\n",
        "    count += 1\n",
        "  \n",
        "  return S \n",
        "\n",
        "def tweak_2(S, min_X, max_X):\n",
        "  index_random = randrange(len(S) - 1)\n",
        "  value_random = uniform(min_X,max_X)\n",
        "\n",
        "  S[index_random] = value_random\n",
        "\n",
        "  return S\n",
        "\n",
        "def shifted_sphere(RS, O, fbias):\n",
        "  count = 0\n",
        "  sum = 0\n",
        "  length = len(RS)\n",
        "\n",
        "  while(count < length):\n",
        "    sum += (RS[count] - O[count]) * (RS[count] - O[count])\n",
        "    count += 1\n",
        "    \n",
        "  return sum + fbias\n",
        "\n",
        "def hill_climbing(X, O, p, r, n = 5000,fbias = -450, min_X = -100, max_X = 100):  \n",
        "  c_1 = 0  \n",
        "  q_1 = False\n",
        "  cq_1 = []\n",
        "  vq_R_1 = 0\n",
        "  vq_S_1 = 0\n",
        "  S_1 = X\n",
        "\n",
        "  c_2 = 0  \n",
        "  q_2 = False\n",
        "  cq_2 = []\n",
        "  vq_R_2 = 0\n",
        "  vq_S_2 = 0\n",
        "  S_2 = X\n",
        "\n",
        "  for _ in xrange(n):   \n",
        "    R_1 = tweak_1(S_1, p, r, min_X, max_X)    # Ajuste 1    \n",
        "\n",
        "    if not q_1:                               # Se nao tiver armazenado\n",
        "      vq_S_1 = shifted_sphere(S_1, O, fbias)  # Armazene a qualidade S\n",
        "      q_1 = True     \n",
        "      \n",
        "    vq_R_1 = shifted_sphere(R_1, O, fbias)    # Armazene a qualidade R 1    \n",
        "\n",
        "    if (vq_R_1 <= vq_S_1):                    # SE Q(R) < Q(S)\n",
        "      S_1 = R_1                               #   S = R     \n",
        "      q_1 = False                             #   desmarca que esta armazenado\n",
        "      cq_1.append(vq_R_1)                     #   armazena o custo do R\n",
        "    else :                                    # SENAO\n",
        "      cq_1.append(vq_S_1)                     #   armazena o custo do S\n",
        "\n",
        "    R_2 = tweak_2(S_2, min_X, max_X)\n",
        "\n",
        "    if not q_2:\n",
        "      vq_S_2 = shifted_sphere(S_2, O, fbias)\n",
        "      q_2 = True\n",
        "\n",
        "    vq_R_2 = shifted_sphere(R_2, O, fbias)\n",
        "\n",
        "    if (vq_R_2 <= vq_S_2):\n",
        "      S_2 = R_2\n",
        "      q_2 = False\n",
        "      cq_2.append(vq_R_2)\n",
        "    else :\n",
        "      cq_2.append(vq_S_2)\n",
        "\n",
        "  return S_1, S_2, cq_1, cq_2"
      ],
      "execution_count": 3,
      "outputs": []
    },
    {
      "cell_type": "code",
      "metadata": {
        "id": "c0vXwzaE7YAy"
      },
      "source": [
        "if __name__ == '__main__':\n",
        "  n_X = 100                               # Tamanho do Vetor\n",
        "  min_X = -100                            # Valor Minimo do Vetor\n",
        "  max_X = 100                             # Valor Maximo do Vetor\n",
        "  n = 50000                               # Repeticao\n",
        "  p = 0.6                                 # Probabilidade de adicionar no\n",
        "  r = 8                                   # Ruido\n",
        "  fbias = -450                            # BIAS\n",
        "\n",
        "  X = create_random_vector(n_X, min_X, max_X)\n",
        "  O = O_F1\n",
        "\n",
        "  S_1, S_2, cq_1, cq_2 = hill_climbing(X, O, p, r, n, fbias, min_X, max_X) "
      ],
      "execution_count": 4,
      "outputs": []
    },
    {
      "cell_type": "code",
      "metadata": {
        "id": "gBCrSzco7aDP",
        "outputId": "bb0898e0-e353-4183-eafa-d2badf97a2b7",
        "colab": {
          "base_uri": "https://localhost:8080/",
          "height": 276
        }
      },
      "source": [
        "plt.plot(cq_1)\n",
        "plt.show()"
      ],
      "execution_count": 5,
      "outputs": [
        {
          "output_type": "display_data",
          "data": {
            "image/png": "[encoded data removed]",
            "text/plain": [
              "<Figure size 432x288 with 1 Axes>"
            ]
          },
          "metadata": {
            "tags": [],
            "needs_background": "light"
          }
        }
      ]
    },
    {
      "cell_type": "code",
      "metadata": {
        "id": "2dbpVHm6-xGF",
        "outputId": "42c16e7e-54ee-4ec6-8d2e-11368c65ea79",
        "colab": {
          "base_uri": "https://localhost:8080/",
          "height": 276
        }
      },
      "source": [
        "plt.plot(cq_2)\n",
        "plt.show()"
      ],
      "execution_count": 6,
      "outputs": [
        {
          "output_type": "display_data",
          "data": {
            "image/png": "[encoded data removed]",
            "text/plain": [
              "<Figure size 432x288 with 1 Axes>"
            ]
          },
          "metadata": {
            "tags": [],
            "needs_background": "light"
          }
        }
      ]
    }
  ]
}